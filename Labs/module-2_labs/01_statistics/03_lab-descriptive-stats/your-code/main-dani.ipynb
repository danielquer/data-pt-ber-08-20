{
 "cells": [
  {
   "cell_type": "markdown",
   "metadata": {},
   "source": [
    "# Understanding Descriptive Statistics\n",
    "\n",
    "Import the necessary libraries here:"
   ]
  },
  {
   "cell_type": "code",
   "execution_count": 35,
   "metadata": {},
   "outputs": [],
   "source": [
    "# Libraries\n",
    "import random as rand\n",
    "import pandas as pd\n",
    "from matplotlib import pyplot as plt"
   ]
  },
  {
   "cell_type": "markdown",
   "metadata": {},
   "source": [
    "## Challenge 1\n",
    "#### 1.- Define a function that simulates rolling a dice 10 times. Save the information in a dataframe.\n",
    "**Hint**: you can use the *choices* function from module *random* to help you with the simulation."
   ]
  },
  {
   "cell_type": "code",
   "execution_count": 144,
   "metadata": {},
   "outputs": [
    {
     "name": "stdout",
     "output_type": "stream",
     "text": [
      "   value\n",
      "0      2\n",
      "1      6\n",
      "2      3\n",
      "3      3\n",
      "4      4\n",
      "5      3\n",
      "6      6\n",
      "7      2\n",
      "8      4\n",
      "9      5\n"
     ]
    }
   ],
   "source": [
    "# your code here\n",
    "def ten_dice():\n",
    "    return pd.DataFrame(rand.choices(range(1,7),k=10))\n",
    "\n",
    "df = ten_dice()\n",
    "df.columns = ['value']\n",
    "print(df)"
   ]
  },
  {
   "cell_type": "markdown",
   "metadata": {},
   "source": [
    "#### 2.- Plot the results sorted by value."
   ]
  },
  {
   "cell_type": "code",
   "execution_count": 145,
   "metadata": {},
   "outputs": [
    {
     "data": {
      "image/png": "[encoded data removed]",
      "text/plain": [
       "<Figure size 432x288 with 1 Axes>"
      ]
     },
     "metadata": {
      "needs_background": "light"
     },
     "output_type": "display_data"
    }
   ],
   "source": [
    "# your code here\n",
    "plt.bar(df.index,df['value'])\n",
    "plt.xlabel('Nth roll')\n",
    "plt.ylabel('Die value')\n",
    "plt.show()"
   ]
  },
  {
   "cell_type": "markdown",
   "metadata": {},
   "source": [
    "#### 3.- Calculate the frequency distribution and plot it."
   ]
  },
  {
   "cell_type": "code",
   "execution_count": 146,
   "metadata": {},
   "outputs": [
    {
     "data": {
      "image/png": "[encoded data removed]",
      "text/plain": [
       "<Figure size 432x288 with 1 Axes>"
      ]
     },
     "metadata": {
      "needs_background": "light"
     },
     "output_type": "display_data"
    }
   ],
   "source": [
    "# your code here\n",
    "hist = df.groupby(['value'])['value'].count()\n",
    "plt.bar(hist.index,hist)\n",
    "plt.xlabel('Die value')\n",
    "plt.ylabel('Times rolled')\n",
    "plt.show()"
   ]
  },
  {
   "cell_type": "code",
   "execution_count": 147,
   "metadata": {},
   "outputs": [
    {
     "data": {
      "text/plain": [
       "'\\nyour comments here\\n'"
      ]
     },
     "execution_count": 147,
     "metadata": {},
     "output_type": "execute_result"
    }
   ],
   "source": [
    "\"\"\"\n",
    "your comments here\n",
    "\"\"\""
   ]
  },
  {
   "cell_type": "markdown",
   "metadata": {},
   "source": [
    "## Challenge 2\n",
    "Now, using the dice results obtained in *challenge 1*, your are going to define some functions that will help you calculate the mean of your data in two different ways, the median and the four quartiles. \n",
    "\n",
    "#### 1.- Define a function that computes the mean by summing all the observations and dividing by the total number of observations. You are not allowed to use any methods or functions that directly calculate the mean value. "
   ]
  },
  {
   "cell_type": "code",
   "execution_count": 238,
   "metadata": {},
   "outputs": [
    {
     "name": "stdout",
     "output_type": "stream",
     "text": [
      "value    3.8\n",
      "dtype: float64\n"
     ]
    }
   ],
   "source": [
    "# your code here\n",
    "def df_mean(x):\n",
    "    return x.sum() / x.count()\n",
    "\n",
    "print(df_mean(df))"
   ]
  },
  {
   "cell_type": "markdown",
   "metadata": {},
   "source": [
    "#### 2.- First, calculate the frequency distribution. Then, calculate the mean using the values of the frequency distribution you've just computed. You are not allowed to use any methods or functions that directly calculate the mean value. "
   ]
  },
  {
   "cell_type": "code",
   "execution_count": 149,
   "metadata": {},
   "outputs": [
    {
     "name": "stdout",
     "output_type": "stream",
     "text": [
      "3.8\n"
     ]
    }
   ],
   "source": [
    "# your code here\n",
    "hist = df.groupby(['value'])['value'].count()\n",
    "mean = sum(hist.values * hist.index) / sum(hist.values)\n",
    "print(mean)\n",
    "#print(ten_dice_mean(df))"
   ]
  },
  {
   "cell_type": "markdown",
   "metadata": {},
   "source": [
    "#### 3.- Define a function to calculate the median. You are not allowed to use any methods or functions that directly calculate the median value. \n",
    "**Hint**: you might need to define two computation cases depending on the number of observations used to calculate the median."
   ]
  },
  {
   "cell_type": "code",
   "execution_count": 237,
   "metadata": {},
   "outputs": [
    {
     "name": "stdout",
     "output_type": "stream",
     "text": [
      "   value\n",
      "0      2\n",
      "1      6\n",
      "2      3\n",
      "3      3\n",
      "4      4\n",
      "5      3\n",
      "6      6\n",
      "7      2\n",
      "8      4\n",
      "9      5\n",
      "   value\n",
      "0      2\n",
      "1      2\n",
      "2      3\n",
      "3      3\n",
      "4      3\n",
      "5      4\n",
      "6      4\n",
      "7      5\n",
      "8      6\n",
      "9      6\n"
     ]
    },
    {
     "data": {
      "text/plain": [
       "3.5"
      ]
     },
     "execution_count": 237,
     "metadata": {},
     "output_type": "execute_result"
    }
   ],
   "source": [
    "# your code here\n",
    "print(df)\n",
    "def df_median(x):\n",
    "    sorted_df = df.sort_values(by='value').reset_index(drop=True)\n",
    "    print(sorted_df)\n",
    "    if len(x)%2 == 0: \n",
    "        return (sorted_df['value'][len(df)/2] + sorted_df['value'][len(df)/2 - 1]) / 2\n",
    "    return sorted_df['value'][(len(df)/2 - 1/2)]\n",
    "df_median(df)"
   ]
  },
  {
   "cell_type": "markdown",
   "metadata": {},
   "source": [
    "#### 4.- Define a function to calculate the four quartiles. You can use the function you defined above to compute the median but you are not allowed to use any methods or functions that directly calculate the quartiles. "
   ]
  },
  {
   "cell_type": "code",
   "execution_count": 167,
   "metadata": {},
   "outputs": [
    {
     "name": "stdout",
     "output_type": "stream",
     "text": [
      "   value\n",
      "0      2\n",
      "1      2\n",
      "2      3\n",
      "3      3\n",
      "4      3\n",
      "5      4\n",
      "6      4\n",
      "7      5\n",
      "8      6\n",
      "9      6\n",
      "4\n",
      "3\n",
      "3.5\n"
     ]
    }
   ],
   "source": [
    "sorted_df = df.sort_values(by='value').reset_index(drop=True)\n",
    "print(sorted_df)\n",
    "print(sorted_df['value'][int(len(df)/2)])\n",
    "print(sorted_df['value'][int(len(df)/2) - 1])\n",
    "print((sorted_df['value'][int(len(df)/2)] + sorted_df['value'][int(len(df)/2) - 1]) / 2)"
   ]
  },
  {
   "cell_type": "code",
   "execution_count": 256,
   "metadata": {},
   "outputs": [
    {
     "name": "stdout",
     "output_type": "stream",
     "text": [
      "   value\n",
      "0      2\n",
      "1      2\n",
      "2      3\n",
      "3      3\n",
      "4      3\n",
      "5      4\n",
      "6      4\n",
      "7      5\n",
      "8      6\n",
      "9      6\n"
     ]
    },
    {
     "data": {
      "text/plain": [
       "{'median': 3.5, 'lower_quartile': 3, 'upper_quartile': 5}"
      ]
     },
     "execution_count": 256,
     "metadata": {},
     "output_type": "execute_result"
    }
   ],
   "source": [
    "# your code here\n",
    "def df_quartiles(x):\n",
    "    sorted_df = x.sort_values(by='value').reset_index(drop=True)\n",
    "    print(sorted_df)\n",
    "    quartiles = {'median':'','lower_quartile':'','upper_quartile':''}\n",
    "    if len(x)%2 == 0: \n",
    "        quartiles['median'] = (sorted_df['value'][int(len(x)/2)] + sorted_df['value'][int(len(x)/2) - 1]) / 2\n",
    "        if len(x)/2 % 2 == 0:\n",
    "            quartiles['lower_quartile'] = (sorted_df['value'][int(len(x)/4)] + sorted_df['value'][int(len(x)/4) - 1]) / 2\n",
    "            quartiles['upper_quartile'] = (sorted_df['value'][int(len(x)*3/4)] + sorted_df['value'][int(len(x)*3/4) - 1]) / 2\n",
    "        else:\n",
    "            quartiles['lower_quartile'] = sorted_df['value'][int(len(x)/4)]\n",
    "            quartiles['upper_quartile'] = sorted_df['value'][int(len(x)*3/4)]\n",
    "    else:\n",
    "        quartiles['median'] = (sorted_df['value'][int(len(df)/2)] + sorted_df['value'][int(len(df)/2) - 1]) / 2\n",
    "        if len(x)/2 - 1 % 2 == 0:\n",
    "            quartiles['lower_quartile'] = (sorted_df['value'][int(len(x)/4)] + sorted_df['value'][int(len(x)/4) - 1]) / 2\n",
    "            quartiles['upper_quartile'] = (sorted_df['value'][int(len(x)*3/4)] + sorted_df['value'][int(len(x)*3/4) - 1]) / 2\n",
    "        else:\n",
    "            quartiles['lower_quartile'] = sorted_df['value'][int(len(x)/4)]\n",
    "            quartiles['upper_quartile'] = sorted_df['value'][int(len(x)*3/4)]    \n",
    "    return quartiles\n",
    "\n",
    "df_quartiles(df)"
   ]
  },
  {
   "cell_type": "markdown",
   "metadata": {},
   "source": [
    "## Challenge 3\n",
    "Read the csv `roll_the_dice_hundred.csv` from the `data` folder.\n",
    "#### 1.- Sort the values and plot them. What do you see?"
   ]
  },
  {
   "cell_type": "code",
   "execution_count": 239,
   "metadata": {},
   "outputs": [
    {
     "data": {
      "image/png": "[encoded data removed]",
      "text/plain": [
       "<Figure size 432x288 with 1 Axes>"
      ]
     },
     "metadata": {
      "needs_background": "light"
     },
     "output_type": "display_data"
    }
   ],
   "source": [
    "# your code here\n",
    "df100 = pd.read_csv('../data/roll_the_dice_hundred.csv')\n",
    "sorted_df100 = df100.sort_values(by='value').reset_index(drop=True)\n",
    "sorted_df100\n",
    "plt.bar(sorted_df100.index,sorted_df100['value'])\n",
    "plt.show()"
   ]
  },
  {
   "cell_type": "code",
   "execution_count": null,
   "metadata": {},
   "outputs": [],
   "source": [
    "\"\"\"\n",
    "your comments here\n",
    "What I see is what seems to be a uniform distribution. We need to put them into a histogram though.\n",
    "\"\"\""
   ]
  },
  {
   "cell_type": "markdown",
   "metadata": {},
   "source": [
    "#### 2.- Using the functions you defined in *challenge 2*, calculate the mean value of the hundred dice rolls."
   ]
  },
  {
   "cell_type": "code",
   "execution_count": 252,
   "metadata": {},
   "outputs": [
    {
     "name": "stdout",
     "output_type": "stream",
     "text": [
      "The mean of roll_the_dice_hundred.csv is 3.74.\n"
     ]
    }
   ],
   "source": [
    "# your code here\n",
    "print(f\"The mean of roll_the_dice_hundred.csv is {df_mean(df100['value'])}.\")"
   ]
  },
  {
   "cell_type": "markdown",
   "metadata": {},
   "source": [
    "#### 3.- Now, calculate the frequency distribution.\n"
   ]
  },
  {
   "cell_type": "code",
   "execution_count": 241,
   "metadata": {},
   "outputs": [
    {
     "data": {
      "text/plain": [
       "value\n",
       "1    12\n",
       "2    17\n",
       "3    14\n",
       "4    22\n",
       "5    12\n",
       "6    23\n",
       "Name: value, dtype: int64"
      ]
     },
     "execution_count": 241,
     "metadata": {},
     "output_type": "execute_result"
    }
   ],
   "source": [
    "# your code here\n",
    "hist100 = df100.groupby(['value'])['value'].count()\n",
    "hist100"
   ]
  },
  {
   "cell_type": "markdown",
   "metadata": {},
   "source": [
    "#### 4.- Plot the histogram. What do you see (shape, values...) ? How can you connect the mean value to the histogram? "
   ]
  },
  {
   "cell_type": "code",
   "execution_count": 242,
   "metadata": {},
   "outputs": [
    {
     "data": {
      "image/png": "[encoded data removed]",
      "text/plain": [
       "<Figure size 432x288 with 1 Axes>"
      ]
     },
     "metadata": {
      "needs_background": "light"
     },
     "output_type": "display_data"
    }
   ],
   "source": [
    "# your code here\n",
    "plt.bar(hist100.index,hist100)\n",
    "plt.xlabel('Die value')\n",
    "plt.ylabel('Times rolled')\n",
    "plt.show()"
   ]
  },
  {
   "cell_type": "code",
   "execution_count": null,
   "metadata": {},
   "outputs": [],
   "source": [
    "\"\"\"\n",
    "I see what seems to be a uniform distribution, but due to (still) a low number of rolls, this is yet not seen in the chart.\n",
    "\"\"\""
   ]
  },
  {
   "cell_type": "markdown",
   "metadata": {},
   "source": [
    "#### 5.- Read the `roll_the_dice_thousand.csv` from the `data` folder. Plot the frequency distribution as you did before. Has anything changed? Why do you think it changed?"
   ]
  },
  {
   "cell_type": "code",
   "execution_count": 243,
   "metadata": {},
   "outputs": [
    {
     "data": {
      "image/png": "[encoded data removed]",
      "text/plain": [
       "<Figure size 432x288 with 1 Axes>"
      ]
     },
     "metadata": {
      "needs_background": "light"
     },
     "output_type": "display_data"
    }
   ],
   "source": [
    "# your code here\n",
    "df1000 = pd.read_csv('../data/roll_the_dice_thousand.csv')\n",
    "hist1000 = df1000.groupby(['value'])['value'].count()\n",
    "plt.bar(hist1000.index,hist1000)\n",
    "plt.xlabel('Die value')\n",
    "plt.ylabel('Times rolled')\n",
    "\n",
    "plt.show()"
   ]
  },
  {
   "cell_type": "code",
   "execution_count": null,
   "metadata": {},
   "outputs": [],
   "source": [
    "\"\"\"\n",
    "Now the distribution is finally nearly uniform and apparent to human eye.\n",
    "\"\"\""
   ]
  },
  {
   "cell_type": "markdown",
   "metadata": {},
   "source": [
    "## Challenge 4\n",
    "In the `data` folder of this repository you will find three different files with the prefix `ages_population`. These files contain information about a poll answered by a thousand people regarding their age. Each file corresponds to the poll answers in different neighbourhoods of Barcelona.\n",
    "\n",
    "#### 1.- Read the file `ages_population.csv`. Calculate the frequency distribution and plot it as we did during the lesson. Try to guess the range in which the mean and the standard deviation will be by looking at the plot. "
   ]
  },
  {
   "cell_type": "code",
   "execution_count": 244,
   "metadata": {},
   "outputs": [
    {
     "data": {
      "image/png": "[encoded data removed]",
      "text/plain": [
       "<Figure size 432x288 with 1 Axes>"
      ]
     },
     "metadata": {
      "needs_background": "light"
     },
     "output_type": "display_data"
    },
    {
     "data": {
      "text/plain": [
       "'\\nThe guess is that mean should be between 35 and 40 years old. Standard Deviation around 10 and 15.\\n'"
      ]
     },
     "execution_count": 244,
     "metadata": {},
     "output_type": "execute_result"
    }
   ],
   "source": [
    "# your code here\n",
    "ages = pd.read_csv('../data/ages_population.csv')\n",
    "hist_ages = ages.groupby(['observation'])['observation'].count()\n",
    "plt.bar(hist_ages.index,hist_ages)\n",
    "plt.show()\n",
    "\"\"\"\n",
    "The guess is that mean should be between 35 and 40 years old. Standard Deviation around 10 and 15.\n",
    "\"\"\""
   ]
  },
  {
   "cell_type": "markdown",
   "metadata": {},
   "source": [
    "#### 2.- Calculate the exact mean and standard deviation and compare them with your guesses. Do they fall inside the ranges you guessed?"
   ]
  },
  {
   "cell_type": "code",
   "execution_count": 223,
   "metadata": {},
   "outputs": [
    {
     "name": "stdout",
     "output_type": "stream",
     "text": [
      "{'Mean': 36.56, 'Standard Deviation': 12.816499625976762}\n"
     ]
    }
   ],
   "source": [
    "# your code here\n",
    "mean = ages['observation'].sum() / ages['observation'].count()\n",
    "std = ages['observation'].std()\n",
    "keys = ['Mean','Standard Deviation']\n",
    "values = [mean, std]\n",
    "print(dict(zip(keys,values)))\n"
   ]
  },
  {
   "cell_type": "code",
   "execution_count": null,
   "metadata": {},
   "outputs": [],
   "source": [
    "\"\"\"\n",
    "Yes! It's quite a normal distribution.\n",
    "\"\"\""
   ]
  },
  {
   "cell_type": "markdown",
   "metadata": {},
   "source": [
    "#### 3.- Now read the file `ages_population2.csv` . Calculate the frequency distribution and plot it."
   ]
  },
  {
   "cell_type": "code",
   "execution_count": 230,
   "metadata": {},
   "outputs": [
    {
     "data": {
      "image/png": "[encoded data removed]",
      "text/plain": [
       "<Figure size 432x288 with 1 Axes>"
      ]
     },
     "metadata": {
      "needs_background": "light"
     },
     "output_type": "display_data"
    }
   ],
   "source": [
    "# your code here\n",
    "ages2 = pd.read_csv('../data/ages_population2.csv')\n",
    "hist_ages2 = ages2.groupby(['observation'])['observation'].count()\n",
    "plt.bar(hist_ages2.index,hist_ages2)\n",
    "plt.show()"
   ]
  },
  {
   "cell_type": "markdown",
   "metadata": {},
   "source": [
    "####  4.- What do you see? Is there any difference with the frequency distribution in step 1?"
   ]
  },
  {
   "cell_type": "code",
   "execution_count": 246,
   "metadata": {},
   "outputs": [
    {
     "data": {
      "text/plain": [
       "'\\nThis is a different population. The distribution seems even more normal than the one before and is of course limited to a segment of population between 18 and 37 years old.\\n'"
      ]
     },
     "execution_count": 246,
     "metadata": {},
     "output_type": "execute_result"
    }
   ],
   "source": [
    "\"\"\"\n",
    "This is a different population. The distribution seems even more normal than the one before and is of course limited to a segment of population between 18 and 37 years old.\n",
    "\"\"\""
   ]
  },
  {
   "cell_type": "markdown",
   "metadata": {},
   "source": [
    "#### 5.- Calculate the mean and standard deviation. Compare the results with the mean and standard deviation in step 2. What do you think?"
   ]
  },
  {
   "cell_type": "code",
   "execution_count": 245,
   "metadata": {},
   "outputs": [
    {
     "name": "stdout",
     "output_type": "stream",
     "text": [
      "{'Mean': 27.155, 'Standard Deviation': 2.969813932689186}\n"
     ]
    }
   ],
   "source": [
    "# your code here\n",
    "mean = ages2['observation'].sum() / ages2['observation'].count()\n",
    "std = ages2['observation'].std()\n",
    "keys = ['Mean','Standard Deviation']\n",
    "values = [mean, std]\n",
    "print(dict(zip(keys,values)))\n"
   ]
  },
  {
   "cell_type": "code",
   "execution_count": null,
   "metadata": {},
   "outputs": [],
   "source": [
    "\"\"\"\n",
    "The mean is much lower, so is Standard Deviation.\n",
    "\"\"\""
   ]
  },
  {
   "cell_type": "markdown",
   "metadata": {},
   "source": [
    "## Challenge 5\n",
    "Now is the turn of `ages_population3.csv`.\n",
    "\n",
    "#### 1.- Read the file `ages_population3.csv`. Calculate the frequency distribution and plot it."
   ]
  },
  {
   "cell_type": "code",
   "execution_count": 247,
   "metadata": {},
   "outputs": [
    {
     "data": {
      "image/png": "[encoded data removed]",
      "text/plain": [
       "<Figure size 432x288 with 1 Axes>"
      ]
     },
     "metadata": {
      "needs_background": "light"
     },
     "output_type": "display_data"
    }
   ],
   "source": [
    "# your code here\n",
    "ages3 = pd.read_csv('../data/ages_population3.csv')\n",
    "hist_ages3 = ages3.groupby(['observation'])['observation'].count()\n",
    "plt.bar(hist_ages3.index,hist_ages3)\n",
    "plt.show()"
   ]
  },
  {
   "cell_type": "markdown",
   "metadata": {},
   "source": [
    "#### 2.- Calculate the mean and standard deviation. Compare the results with the plot in step 1. What is happening?"
   ]
  },
  {
   "cell_type": "code",
   "execution_count": 248,
   "metadata": {},
   "outputs": [
    {
     "name": "stdout",
     "output_type": "stream",
     "text": [
      "{'Mean': 41.989, 'Standard Deviation': 16.144705959865934}\n"
     ]
    }
   ],
   "source": [
    "# your code here\n",
    "mean = ages3['observation'].sum() / ages3['observation'].count()\n",
    "std = ages3['observation'].std()\n",
    "keys = ['Mean','Standard Deviation']\n",
    "values = [mean, std]\n",
    "print(dict(zip(keys,values)))\n"
   ]
  },
  {
   "cell_type": "code",
   "execution_count": null,
   "metadata": {},
   "outputs": [],
   "source": [
    "\"\"\"\n",
    "Much higher mean, also much larger standard deviation. The distribution no longer seems normal.\n",
    "\"\"\""
   ]
  },
  {
   "cell_type": "markdown",
   "metadata": {},
   "source": [
    "#### 3.- Calculate the four quartiles. Use the results to explain your reasoning for question in step 2. How much of a difference is there between the median and the mean?"
   ]
  },
  {
   "cell_type": "code",
   "execution_count": 257,
   "metadata": {},
   "outputs": [
    {
     "name": "stdout",
     "output_type": "stream",
     "text": [
      "     value\n",
      "0      1.0\n",
      "1      2.0\n",
      "2      2.0\n",
      "3      4.0\n",
      "4      4.0\n",
      "..     ...\n",
      "995   75.0\n",
      "996   75.0\n",
      "997   76.0\n",
      "998   77.0\n",
      "999   77.0\n",
      "\n",
      "[1000 rows x 1 columns]\n"
     ]
    },
    {
     "data": {
      "text/plain": [
       "{'median': 40.0, 'lower_quartile': 30.0, 'upper_quartile': 53.0}"
      ]
     },
     "execution_count": 257,
     "metadata": {},
     "output_type": "execute_result"
    }
   ],
   "source": [
    "# your code here\n",
    "ages3.rename(columns={'observation':'value'},inplace=True)\n",
    "df_quartiles(ages3)"
   ]
  },
  {
   "cell_type": "code",
   "execution_count": null,
   "metadata": {},
   "outputs": [],
   "source": [
    "\"\"\"\n",
    "The median is 2 years lower than the mean. The distribution is right skewed, with many values in the upper tail.\n",
    "\"\"\""
   ]
  },
  {
   "cell_type": "markdown",
   "metadata": {},
   "source": [
    "#### 4.- Calculate other percentiles that might be useful to give more arguments to your reasoning."
   ]
  },
  {
   "cell_type": "code",
   "execution_count": null,
   "metadata": {},
   "outputs": [],
   "source": [
    "# your code here"
   ]
  },
  {
   "cell_type": "code",
   "execution_count": null,
   "metadata": {},
   "outputs": [],
   "source": [
    "\"\"\"\n",
    "your comments here\n",
    "\"\"\""
   ]
  },
  {
   "cell_type": "markdown",
   "metadata": {},
   "source": [
    "## Bonus challenge\n",
    "Compare the information about the three neighbourhoods. Prepare a report about the three of them. Remember to find out which are their similarities and their differences backing your arguments in basic statistics."
   ]
  },
  {
   "cell_type": "code",
   "execution_count": null,
   "metadata": {},
   "outputs": [],
   "source": [
    "# your code here"
   ]
  },
  {
   "cell_type": "code",
   "execution_count": null,
   "metadata": {},
   "outputs": [],
   "source": [
    "\"\"\"\n",
    "your comments here\n",
    "\"\"\""
   ]
  }
 ],
 "metadata": {
  "kernelspec": {
   "display_name": "Python 3",
   "language": "python",
   "name": "python3"
  },
  "language_info": {
   "codemirror_mode": {
    "name": "ipython",
    "version": 3
   },
   "file_extension": ".py",
   "mimetype": "text/x-python",
   "name": "python",
   "nbconvert_exporter": "python",
   "pygments_lexer": "ipython3",
   "version": "3.8.3"
  }
 },
 "nbformat": 4,
 "nbformat_minor": 2
}
