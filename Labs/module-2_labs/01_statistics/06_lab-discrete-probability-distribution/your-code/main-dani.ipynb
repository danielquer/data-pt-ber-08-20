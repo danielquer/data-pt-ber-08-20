{
 "cells": [
  {
   "cell_type": "markdown",
   "metadata": {},
   "source": [
    "# Before your start:\n",
    "\n",
    "    Read the README.md file\n",
    "    Comment as much as you can and use the resources (README.md file)\n",
    "    Happy learning!\n",
    "\n",
    "*Notes:* \n",
    "\n",
    "- Solve the questions with python.\n",
    "\n",
    "- Round the final answer to three decimal places."
   ]
  },
  {
   "cell_type": "code",
   "execution_count": 5,
   "metadata": {},
   "outputs": [],
   "source": [
    "import scipy.stats\n",
    "import numpy as np\n",
    "import pandas as pd\n",
    "from matplotlib import pyplot as plt"
   ]
  },
  {
   "cell_type": "markdown",
   "metadata": {},
   "source": [
    "## Bernoulli's Distribution\n",
    "\n",
    "In a basket containing 100 fruits, there are 60 apples and 40 oranges. \n",
    "\n",
    "A fruit is picked randomly from the basket. \n",
    "\n",
    "1. **What is the probability that the fruit is apple?**\n",
    "1. **What is the probability that it is an orange?**\n",
    "\n",
    "Please use a Bernoulli distribution for your answer."
   ]
  },
  {
   "cell_type": "code",
   "execution_count": 2,
   "metadata": {},
   "outputs": [],
   "source": [
    "# your code here"
   ]
  },
  {
   "cell_type": "code",
   "execution_count": 12,
   "metadata": {},
   "outputs": [
    {
     "name": "stdout",
     "output_type": "stream",
     "text": [
      "The probability that the fruit is an apple is 0.6.\n",
      "The probability that the fruit is an orange is 0.4.\n"
     ]
    }
   ],
   "source": [
    "# defining success as orange\n",
    "p = 0.4\n",
    "# bernoulli function as \"orange\" when picking a fruit from the basket\n",
    "bern = scipy.stats.bernoulli(p)\n",
    "\n",
    "p_orange = bern.pmf(1)\n",
    "p_apple = bern.pmf(0)\n",
    "print(f'The probability that the fruit is an apple is {p_apple}.')\n",
    "print(f'The probability that the fruit is an orange is {p_orange}.')"
   ]
  },
  {
   "cell_type": "markdown",
   "metadata": {},
   "source": [
    "Now we take a random sample of 20 fruits from the basket. After each fruit is taken, a new fruit of the same type is placed in the basket. Therefore, every time we are taking 1 fruit from 100 fruits. \n",
    "\n",
    "1. **What is the probability that the first 5 fruits are all apples?**\n",
    "\n",
    "1. **What is the probability that the first 5 fruits are all apples and the next 15 fruits are all oranges?**\n",
    "\n",
    "You can include the `p` and `q` probabilities you previous calculated in your solution."
   ]
  },
  {
   "cell_type": "code",
   "execution_count": 30,
   "metadata": {},
   "outputs": [
    {
     "name": "stdout",
     "output_type": "stream",
     "text": [
      "The probability that the first 5 fruits are all apples is 0.07775999999999997.\n",
      "the probability that the first 5 fruits are all apples and the next 15 fruits are all oranges is 8.349416423423995e-08\n"
     ]
    }
   ],
   "source": [
    "desired_successes = 5\n",
    "p_5_apples = p_apple ** desired_successes\n",
    "bern_a = scipy.stats.bernoulli(p_5_apples)\n",
    "bern_a.pmf(1)\n",
    "print(f'The probability that the first 5 fruits are all apples is {bern_a.pmf(1)}.')\n",
    "p_5_apples_15_oranges = p_apple ** desired_successes * p_orange ** (n - desired_successes)\n",
    "bern_b = scipy.stats.bernoulli(p_5_apples_15_oranges)\n",
    "bern_b.pmf(1)\n",
    "print(f'the probability that the first 5 fruits are all apples and the next 15 fruits are all oranges is {bern_b.pmf(1)}')\n"
   ]
  },
  {
   "cell_type": "markdown",
   "metadata": {},
   "source": [
    "## Binomial Distribution\n",
    "\n",
    "Similar to the above problem, this time again we randomly sample 20 fruits. Fruits are being replaced again after we take one out, so the probability distribution does not change. We can use a binomial distribution here!\n",
    "\n",
    "**What is the probability that this time the sample contains 5 apples and 15 oranges?**\n",
    "\n",
    "Please note that this time the order of the fruits being picked does not matter, we just want the probability of having exactly 5 apples in a sample of 20 fruits."
   ]
  },
  {
   "cell_type": "code",
   "execution_count": 35,
   "metadata": {},
   "outputs": [
    {
     "name": "stdout",
     "output_type": "stream",
     "text": [
      "The probability that this time the sample contains 5 apples and 15 oranges is 0.0012944935222876511\n"
     ]
    }
   ],
   "source": [
    "# your code here\n",
    "n = 20\n",
    "p = 0.6\n",
    "binomial = scipy.stats.binom(n,p)\n",
    "print(f'The probability that this time the sample contains 5 apples and 15 oranges is {binomial.pmf(5)}')"
   ]
  },
  {
   "cell_type": "markdown",
   "metadata": {},
   "source": [
    "In the lesson we also discussed CDF (cumulative distribution function). In the context of the above problem, **what is the probability that less than 5 fruits picked are apples?** (so 1 - 4 fruits are apples!)"
   ]
  },
  {
   "cell_type": "code",
   "execution_count": 36,
   "metadata": {},
   "outputs": [
    {
     "name": "stdout",
     "output_type": "stream",
     "text": [
      "The probability that this time the sample contains 5 apples and 15 oranges is 0.0003170311211686301\n"
     ]
    }
   ],
   "source": [
    "# your code here\n",
    "print(f'The probability that this time the sample contains 5 apples and 15 oranges is {binomial.cdf(4)}')"
   ]
  },
  {
   "cell_type": "markdown",
   "metadata": {},
   "source": [
    "**Plot the PDF (probability distributiom function) for the above binomial distribution.**\n",
    "\n",
    "*Hint: The range of x in a binomial distribution is from `0` to `n`.*\n",
    "\n",
    "A pretty way to plot this is is to first use plt.plot with the option to plot circles instead of lines, and then using plt.vlines to connect the circles to 0 at the bottom."
   ]
  },
  {
   "cell_type": "code",
   "execution_count": 49,
   "metadata": {},
   "outputs": [
    {
     "data": {
      "image/png": "[encoded data removed]",
      "text/plain": [
       "<Figure size 432x288 with 1 Axes>"
      ]
     },
     "metadata": {
      "needs_background": "light"
     },
     "output_type": "display_data"
    }
   ],
   "source": [
    "# your code here\n",
    "ran = range(0,n)\n",
    "plt.plot(ran,binomial.pmf(ran),'o')\n",
    "plt.vlines(ran,0,binomial.pmf(ran))\n",
    "# Please label the axes and give a title to the plot \n",
    "plt.xlabel('Number of apples picked')\n",
    "plt.ylabel('Probability')\n",
    "plt.title('PMF for number of apples picked in 20 trials in a basket \\n of 100 fruits where 60 are apples and 40 are oranges.')\n",
    "plt.show()\n"
   ]
  },
  {
   "cell_type": "markdown",
   "metadata": {},
   "source": [
    "## Poisson Distribution\n",
    "\n",
    "For this challenge, read up on the Poisson Distribution in the class notes in studio! The shape of a Poisson distribution is determined by its lambda parameter, and is related to the frequency with which events occur. \n",
    "\n",
    "In the UEFA champions league tournament, the average number of goals scored in a match is 2.3. \n",
    "\n",
    "**Using a Poisson Distribution, what is the probability that the number of goals scored in a match is 5?**"
   ]
  },
  {
   "cell_type": "code",
   "execution_count": 53,
   "metadata": {},
   "outputs": [
    {
     "name": "stdout",
     "output_type": "stream",
     "text": [
      "The probability that the number of goals scored in a match of UCL is 5 is 0.053775025581946814.\n"
     ]
    }
   ],
   "source": [
    "# your code here \n",
    "xG = 2.3 \n",
    "pois = scipy.stats.poisson(xG)\n",
    "print(f'The probability that the number of goals scored in a match of UCL is 5 is {pois.pmf(5)}.')\n"
   ]
  },
  {
   "cell_type": "markdown",
   "metadata": {},
   "source": [
    "**Draw a poisson probability distribution plot for the number of goals to be between 0 to 10.**"
   ]
  },
  {
   "cell_type": "code",
   "execution_count": 56,
   "metadata": {},
   "outputs": [
    {
     "data": {
      "image/png": "[encoded data removed]",
      "text/plain": [
       "<Figure size 432x288 with 1 Axes>"
      ]
     },
     "metadata": {
      "needs_background": "light"
     },
     "output_type": "display_data"
    }
   ],
   "source": [
    "# your code here\n",
    "ran_goals = range(0,10)\n",
    "plt.plot(ran_goals,pois.pmf(ran_goals),'o')\n",
    "plt.vlines(ran_goals,0,pois.pmf(ran_goals))\n",
    "# Please label the axes and give a title to the plot \n",
    "plt.xlabel('Number of goals')\n",
    "plt.ylabel('Probability of occurring')\n",
    "plt.title('PMF for the number of goals scored in a UEFA Champions League game.')\n",
    "plt.show()"
   ]
  },
  {
   "cell_type": "code",
   "execution_count": null,
   "metadata": {},
   "outputs": [],
   "source": []
  }
 ],
 "metadata": {
  "kernelspec": {
   "display_name": "Python 3",
   "language": "python",
   "name": "python3"
  },
  "language_info": {
   "codemirror_mode": {
    "name": "ipython",
    "version": 3
   },
   "file_extension": ".py",
   "mimetype": "text/x-python",
   "name": "python",
   "nbconvert_exporter": "python",
   "pygments_lexer": "ipython3",
   "version": "3.8.3"
  }
 },
 "nbformat": 4,
 "nbformat_minor": 4
}
