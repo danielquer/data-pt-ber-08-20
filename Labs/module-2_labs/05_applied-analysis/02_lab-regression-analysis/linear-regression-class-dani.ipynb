{
 "cells": [
  {
   "cell_type": "code",
   "execution_count": 28,
   "metadata": {},
   "outputs": [],
   "source": [
    "import pandas as pd\n",
    "import numpy as np\n",
    "import seaborn as sns\n",
    "import statsmodels.api as sm\n",
    "from matplotlib import pyplot as plt"
   ]
  },
  {
   "cell_type": "code",
   "execution_count": 2,
   "metadata": {},
   "outputs": [
    {
     "data": {
      "text/html": [
       "<div>\n",
       "<style scoped>\n",
       "    .dataframe tbody tr th:only-of-type {\n",
       "        vertical-align: middle;\n",
       "    }\n",
       "\n",
       "    .dataframe tbody tr th {\n",
       "        vertical-align: top;\n",
       "    }\n",
       "\n",
       "    .dataframe thead th {\n",
       "        text-align: right;\n",
       "    }\n",
       "</style>\n",
       "<table border=\"1\" class=\"dataframe\">\n",
       "  <thead>\n",
       "    <tr style=\"text-align: right;\">\n",
       "      <th></th>\n",
       "      <th>Species</th>\n",
       "      <th>CommonName</th>\n",
       "      <th>HeadLength</th>\n",
       "      <th>BodyLength</th>\n",
       "    </tr>\n",
       "  </thead>\n",
       "  <tbody>\n",
       "    <tr>\n",
       "      <th>0</th>\n",
       "      <td>Crocodylus porosus</td>\n",
       "      <td>Estuarine Crocodile</td>\n",
       "      <td>24</td>\n",
       "      <td>161</td>\n",
       "    </tr>\n",
       "    <tr>\n",
       "      <th>1</th>\n",
       "      <td>Crocodylus porosus</td>\n",
       "      <td>Estuarine Crocodile</td>\n",
       "      <td>24</td>\n",
       "      <td>179</td>\n",
       "    </tr>\n",
       "    <tr>\n",
       "      <th>2</th>\n",
       "      <td>Crocodylus porosus</td>\n",
       "      <td>Estuarine Crocodile</td>\n",
       "      <td>32</td>\n",
       "      <td>226</td>\n",
       "    </tr>\n",
       "    <tr>\n",
       "      <th>3</th>\n",
       "      <td>Crocodylus porosus</td>\n",
       "      <td>Estuarine Crocodile</td>\n",
       "      <td>35</td>\n",
       "      <td>259</td>\n",
       "    </tr>\n",
       "    <tr>\n",
       "      <th>4</th>\n",
       "      <td>Crocodylus porosus</td>\n",
       "      <td>Estuarine Crocodile</td>\n",
       "      <td>40</td>\n",
       "      <td>287</td>\n",
       "    </tr>\n",
       "  </tbody>\n",
       "</table>\n",
       "</div>"
      ],
      "text/plain": [
       "              Species           CommonName  HeadLength  BodyLength\n",
       "0  Crocodylus porosus  Estuarine Crocodile          24         161\n",
       "1  Crocodylus porosus  Estuarine Crocodile          24         179\n",
       "2  Crocodylus porosus  Estuarine Crocodile          32         226\n",
       "3  Crocodylus porosus  Estuarine Crocodile          35         259\n",
       "4  Crocodylus porosus  Estuarine Crocodile          40         287"
      ]
     },
     "execution_count": 2,
     "metadata": {},
     "output_type": "execute_result"
    }
   ],
   "source": [
    "df = pd.read_csv('Estuarine_Crocodile.csv')\n",
    "df.head()"
   ]
  },
  {
   "cell_type": "code",
   "execution_count": 3,
   "metadata": {},
   "outputs": [
    {
     "data": {
      "text/plain": [
       "0.9898911439276337"
      ]
     },
     "execution_count": 3,
     "metadata": {},
     "output_type": "execute_result"
    }
   ],
   "source": [
    "df['HeadLength'].corr(df['BodyLength'])"
   ]
  },
  {
   "cell_type": "code",
   "execution_count": 4,
   "metadata": {},
   "outputs": [
    {
     "name": "stdout",
     "output_type": "stream",
     "text": [
      "Help on function scatterplot in module seaborn.relational:\n",
      "\n",
      "scatterplot(x=None, y=None, hue=None, style=None, size=None, data=None, palette=None, hue_order=None, hue_norm=None, sizes=None, size_order=None, size_norm=None, markers=True, style_order=None, x_bins=None, y_bins=None, units=None, estimator=None, ci=95, n_boot=1000, alpha='auto', x_jitter=None, y_jitter=None, legend='brief', ax=None, **kwargs)\n",
      "    Draw a scatter plot with possibility of several semantic groupings.\n",
      "    \n",
      "    The relationship between ``x`` and ``y`` can be shown for different subsets\n",
      "    of the data using the ``hue``, ``size``, and ``style`` parameters. These\n",
      "    parameters control what visual semantics are used to identify the different\n",
      "    subsets. It is possible to show up to three dimensions independently by\n",
      "    using all three semantic types, but this style of plot can be hard to\n",
      "    interpret and is often ineffective. Using redundant semantics (i.e. both\n",
      "    ``hue`` and ``style`` for the same variable) can be helpful for making\n",
      "    graphics more accessible.\n",
      "    \n",
      "    See the :ref:`tutorial <relational_tutorial>` for more information.    \n",
      "    \n",
      "    The default treatment of the ``hue`` (and to a lesser extent, ``size``)\n",
      "    semantic, if present, depends on whether the variable is inferred to\n",
      "    represent \"numeric\" or \"categorical\" data. In particular, numeric variables\n",
      "    are represented with a sequential colormap by default, and the legend\n",
      "    entries show regular \"ticks\" with values that may or may not exist in the\n",
      "    data. This behavior can be controlled through various parameters, as\n",
      "    described and illustrated below.    \n",
      "    \n",
      "    Parameters\n",
      "    ----------\n",
      "    x, y : names of variables in ``data`` or vector data, optional\n",
      "        Input data variables; must be numeric. Can pass data directly or\n",
      "        reference columns in ``data``.    \n",
      "    hue : name of variables in ``data`` or vector data, optional\n",
      "        Grouping variable that will produce points with different colors.\n",
      "        Can be either categorical or numeric, although color mapping will\n",
      "        behave differently in latter case.\n",
      "    size : name of variables in ``data`` or vector data, optional\n",
      "        Grouping variable that will produce points with different sizes.\n",
      "        Can be either categorical or numeric, although size mapping will\n",
      "        behave differently in latter case.\n",
      "    style : name of variables in ``data`` or vector data, optional\n",
      "        Grouping variable that will produce points with different markers.\n",
      "        Can have a numeric dtype but will always be treated as categorical.\n",
      "    data : DataFrame\n",
      "        Tidy (\"long-form\") dataframe where each column is a variable and each\n",
      "        row is an observation.    \n",
      "    palette : palette name, list, or dict, optional\n",
      "        Colors to use for the different levels of the ``hue`` variable. Should\n",
      "        be something that can be interpreted by :func:`color_palette`, or a\n",
      "        dictionary mapping hue levels to matplotlib colors.    \n",
      "    hue_order : list, optional\n",
      "        Specified order for the appearance of the ``hue`` variable levels,\n",
      "        otherwise they are determined from the data. Not relevant when the\n",
      "        ``hue`` variable is numeric.    \n",
      "    hue_norm : tuple or Normalize object, optional\n",
      "        Normalization in data units for colormap applied to the ``hue``\n",
      "        variable when it is numeric. Not relevant if it is categorical.    \n",
      "    sizes : list, dict, or tuple, optional\n",
      "        An object that determines how sizes are chosen when ``size`` is used.\n",
      "        It can always be a list of size values or a dict mapping levels of the\n",
      "        ``size`` variable to sizes. When ``size``  is numeric, it can also be\n",
      "        a tuple specifying the minimum and maximum size to use such that other\n",
      "        values are normalized within this range.    \n",
      "    size_order : list, optional\n",
      "        Specified order for appearance of the ``size`` variable levels,\n",
      "        otherwise they are determined from the data. Not relevant when the\n",
      "        ``size`` variable is numeric.    \n",
      "    size_norm : tuple or Normalize object, optional\n",
      "        Normalization in data units for scaling plot objects when the\n",
      "        ``size`` variable is numeric.    \n",
      "    markers : boolean, list, or dictionary, optional\n",
      "        Object determining how to draw the markers for different levels of the\n",
      "        ``style`` variable. Setting to ``True`` will use default markers, or\n",
      "        you can pass a list of markers or a dictionary mapping levels of the\n",
      "        ``style`` variable to markers. Setting to ``False`` will draw\n",
      "        marker-less lines.  Markers are specified as in matplotlib.    \n",
      "    style_order : list, optional\n",
      "        Specified order for appearance of the ``style`` variable levels\n",
      "        otherwise they are determined from the data. Not relevant when the\n",
      "        ``style`` variable is numeric.    \n",
      "    {x,y}_bins : lists or arrays or functions\n",
      "        *Currently non-functional.*\n",
      "    units : {long_form_var}\n",
      "        Grouping variable identifying sampling units. When used, a separate\n",
      "        line will be drawn for each unit with appropriate semantics, but no\n",
      "        legend entry will be added. Useful for showing distribution of\n",
      "        experimental replicates when exact identities are not needed.\n",
      "    \n",
      "        *Currently non-functional.*\n",
      "    estimator : name of pandas method or callable or None, optional\n",
      "        Method for aggregating across multiple observations of the ``y``\n",
      "        variable at the same ``x`` level. If ``None``, all observations will\n",
      "        be drawn.    \n",
      "        *Currently non-functional.*\n",
      "    ci : int or \"sd\" or None, optional\n",
      "        Size of the confidence interval to draw when aggregating with an\n",
      "        estimator. \"sd\" means to draw the standard deviation of the data.\n",
      "        Setting to ``None`` will skip bootstrapping.    \n",
      "        *Currently non-functional.*\n",
      "    n_boot : int, optional\n",
      "        Number of bootstraps to use for computing the confidence interval.    \n",
      "        *Currently non-functional.*\n",
      "    alpha : float\n",
      "        Proportional opacity of the points.\n",
      "    {x,y}_jitter : booleans or floats\n",
      "        *Currently non-functional.*\n",
      "    legend : \"brief\", \"full\", or False, optional\n",
      "        How to draw the legend. If \"brief\", numeric ``hue`` and ``size``\n",
      "        variables will be represented with a sample of evenly spaced values.\n",
      "        If \"full\", every group will get an entry in the legend. If ``False``,\n",
      "        no legend data is added and no legend is drawn.    \n",
      "    ax : matplotlib Axes, optional\n",
      "        Axes object to draw the plot onto, otherwise uses the current Axes.    \n",
      "    kwargs : key, value mappings\n",
      "        Other keyword arguments are passed down to\n",
      "        :meth:`matplotlib.axes.Axes.scatter`.\n",
      "    \n",
      "    Returns\n",
      "    -------\n",
      "    ax : matplotlib Axes\n",
      "        Returns the Axes object with the plot drawn onto it.    \n",
      "    \n",
      "    See Also\n",
      "    --------\n",
      "    lineplot : Show the relationship between two variables connected with\n",
      "               lines to emphasize continuity.\n",
      "    swarmplot : Draw a scatter plot with one categorical variable, arranging\n",
      "                the points to show the distribution of values.\n",
      "    \n",
      "    Examples\n",
      "    --------\n",
      "    \n",
      "    Draw a simple scatter plot between two variables:\n",
      "    \n",
      "    .. plot::\n",
      "        :context: close-figs\n",
      "    \n",
      "        >>> import seaborn as sns; sns.set()\n",
      "        >>> import matplotlib.pyplot as plt\n",
      "        >>> tips = sns.load_dataset(\"tips\")\n",
      "        >>> ax = sns.scatterplot(x=\"total_bill\", y=\"tip\", data=tips)\n",
      "    \n",
      "    Group by another variable and show the groups with different colors:\n",
      "    \n",
      "    .. plot::\n",
      "        :context: close-figs\n",
      "    \n",
      "        >>> ax = sns.scatterplot(x=\"total_bill\", y=\"tip\", hue=\"time\",\n",
      "        ...                      data=tips)\n",
      "    \n",
      "    Show the grouping variable by varying both color and marker:\n",
      "    \n",
      "    .. plot::\n",
      "        :context: close-figs\n",
      "    \n",
      "        >>> ax = sns.scatterplot(x=\"total_bill\", y=\"tip\",\n",
      "        ...                      hue=\"time\", style=\"time\", data=tips)\n",
      "    \n",
      "    Vary colors and markers to show two different grouping variables:\n",
      "    \n",
      "    .. plot::\n",
      "        :context: close-figs\n",
      "    \n",
      "        >>> ax = sns.scatterplot(x=\"total_bill\", y=\"tip\",\n",
      "        ...                      hue=\"day\", style=\"time\", data=tips)\n",
      "    \n",
      "    Show a quantitative variable by varying the size of the points:\n",
      "    \n",
      "    .. plot::\n",
      "        :context: close-figs\n",
      "    \n",
      "        >>> ax = sns.scatterplot(x=\"total_bill\", y=\"tip\", size=\"size\",\n",
      "        ...                      data=tips)\n",
      "    \n",
      "    Also show the quantitative variable by also using continuous colors:\n",
      "    \n",
      "    .. plot::\n",
      "        :context: close-figs\n",
      "    \n",
      "        >>> ax = sns.scatterplot(x=\"total_bill\", y=\"tip\",\n",
      "        ...                      hue=\"size\", size=\"size\",\n",
      "        ...                      data=tips)\n",
      "    \n",
      "    Use a different continuous color map:\n",
      "    \n",
      "    .. plot::\n",
      "        :context: close-figs\n",
      "    \n",
      "        >>> cmap = sns.cubehelix_palette(dark=.3, light=.8, as_cmap=True)\n",
      "        >>> ax = sns.scatterplot(x=\"total_bill\", y=\"tip\",\n",
      "        ...                      hue=\"size\", size=\"size\",\n",
      "        ...                      palette=cmap,\n",
      "        ...                      data=tips)\n",
      "    \n",
      "    Change the minimum and maximum point size and show all sizes in legend:\n",
      "    \n",
      "    .. plot::\n",
      "        :context: close-figs\n",
      "    \n",
      "        >>> cmap = sns.cubehelix_palette(dark=.3, light=.8, as_cmap=True)\n",
      "        >>> ax = sns.scatterplot(x=\"total_bill\", y=\"tip\",\n",
      "        ...                      hue=\"size\", size=\"size\",\n",
      "        ...                      sizes=(20, 200), palette=cmap,\n",
      "        ...                      legend=\"full\", data=tips)\n",
      "    \n",
      "    Use a narrower range of color map intensities:\n",
      "    \n",
      "    .. plot::\n",
      "        :context: close-figs\n",
      "    \n",
      "        >>> cmap = sns.cubehelix_palette(dark=.3, light=.8, as_cmap=True)\n",
      "        >>> ax = sns.scatterplot(x=\"total_bill\", y=\"tip\",\n",
      "        ...                      hue=\"size\", size=\"size\",\n",
      "        ...                      sizes=(20, 200), hue_norm=(0, 7),\n",
      "        ...                      legend=\"full\", data=tips)\n",
      "    \n",
      "    Vary the size with a categorical variable, and use a different palette:\n",
      "    \n",
      "    .. plot::\n",
      "        :context: close-figs\n",
      "    \n",
      "        >>> cmap = sns.cubehelix_palette(dark=.3, light=.8, as_cmap=True)\n",
      "        >>> ax = sns.scatterplot(x=\"total_bill\", y=\"tip\",\n",
      "        ...                      hue=\"day\", size=\"smoker\",\n",
      "        ...                      palette=\"Set2\",\n",
      "        ...                      data=tips)\n",
      "    \n",
      "    Use a specific set of markers:\n",
      "    \n",
      "    .. plot::\n",
      "        :context: close-figs\n",
      "    \n",
      "        >>> markers = {\"Lunch\": \"s\", \"Dinner\": \"X\"}\n",
      "        >>> ax = sns.scatterplot(x=\"total_bill\", y=\"tip\", style=\"time\",\n",
      "        ...                      markers=markers,\n",
      "        ...                      data=tips)\n",
      "    \n",
      "    Control plot attributes using matplotlib parameters:\n",
      "    \n",
      "    .. plot::\n",
      "        :context: close-figs\n",
      "    \n",
      "        >>> ax = sns.scatterplot(x=\"total_bill\", y=\"tip\",\n",
      "        ...                      s=100, color=\".2\", marker=\"+\",\n",
      "        ...                      data=tips)\n",
      "    \n",
      "    Pass data vectors instead of names in a data frame:\n",
      "    \n",
      "    .. plot::\n",
      "        :context: close-figs\n",
      "    \n",
      "        >>> iris = sns.load_dataset(\"iris\")\n",
      "        >>> ax = sns.scatterplot(x=iris.sepal_length, y=iris.sepal_width,\n",
      "        ...                      hue=iris.species, style=iris.species)\n",
      "    \n",
      "    Pass a wide-form dataset and plot against its index:\n",
      "    \n",
      "    .. plot::\n",
      "        :context: close-figs\n",
      "    \n",
      "        >>> import numpy as np, pandas as pd; plt.close(\"all\")\n",
      "        >>> index = pd.date_range(\"1 1 2000\", periods=100,\n",
      "        ...                       freq=\"m\", name=\"date\")\n",
      "        >>> data = np.random.randn(100, 4).cumsum(axis=0)\n",
      "        >>> wide_df = pd.DataFrame(data, index, [\"a\", \"b\", \"c\", \"d\"])\n",
      "        >>> ax = sns.scatterplot(data=wide_df)\n",
      "    \n",
      "    Use :func:`relplot` to combine :func:`scatterplot` and :class:`FacetGrid`:\n",
      "    This allows grouping within additional categorical variables. Using\n",
      "    :func:`relplot` is safer than using :class:`FacetGrid` directly, as it\n",
      "    ensures synchronization of the semantic mappings across facets.\n",
      "    \n",
      "    .. plot::\n",
      "        :context: close-figs\n",
      "    \n",
      "        >>> g = sns.relplot(x=\"total_bill\", y=\"tip\",\n",
      "        ...                  col=\"time\", hue=\"day\", style=\"day\",\n",
      "        ...                  kind=\"scatter\", data=tips)\n",
      "\n"
     ]
    }
   ],
   "source": [
    "help(sns.scatterplot)"
   ]
  },
  {
   "cell_type": "code",
   "execution_count": 5,
   "metadata": {},
   "outputs": [
    {
     "data": {
      "text/plain": [
       "<matplotlib.axes._subplots.AxesSubplot at 0x1217b0130>"
      ]
     },
     "execution_count": 5,
     "metadata": {},
     "output_type": "execute_result"
    },
    {
     "data": {
      "image/png": "[encoded data removed]",
      "text/plain": [
       "<Figure size 432x288 with 1 Axes>"
      ]
     },
     "metadata": {
      "needs_background": "light"
     },
     "output_type": "display_data"
    }
   ],
   "source": [
    "sns.scatterplot(df['HeadLength'],df['BodyLength'])"
   ]
  },
  {
   "cell_type": "code",
   "execution_count": 6,
   "metadata": {},
   "outputs": [
    {
     "data": {
      "text/plain": [
       "<seaborn.axisgrid.FacetGrid at 0x121c79b80>"
      ]
     },
     "execution_count": 6,
     "metadata": {},
     "output_type": "execute_result"
    },
    {
     "data": {
      "image/png": "[encoded data removed]",
      "text/plain": [
       "<Figure size 360x360 with 1 Axes>"
      ]
     },
     "metadata": {
      "needs_background": "light"
     },
     "output_type": "display_data"
    }
   ],
   "source": [
    "sns.lmplot(data = df, x = 'HeadLength', y = 'BodyLength')"
   ]
  },
  {
   "cell_type": "markdown",
   "metadata": {},
   "source": [
    "### Linear Regression"
   ]
  },
  {
   "cell_type": "code",
   "execution_count": 7,
   "metadata": {},
   "outputs": [],
   "source": [
    "X = df['HeadLength']\n",
    "Y = df['BodyLength']"
   ]
  },
  {
   "cell_type": "code",
   "execution_count": 12,
   "metadata": {},
   "outputs": [
    {
     "name": "stdout",
     "output_type": "stream",
     "text": [
      "<class 'pandas.core.frame.DataFrame'>\n",
      "   const  HeadLength\n",
      "0    1.0          24\n",
      "1    1.0          24\n",
      "2    1.0          32\n",
      "3    1.0          35\n",
      "4    1.0          40\n"
     ]
    }
   ],
   "source": [
    "X = sm.add_constant(X)\n",
    "print(type(X))\n",
    "print(X.head())"
   ]
  },
  {
   "cell_type": "code",
   "execution_count": 26,
   "metadata": {},
   "outputs": [],
   "source": [
    "ols_model = sm.OLS(Y,X) ## Y is endogenous (dependent) variable, X is exogenous variable\n",
    "results = ols_model.fit() ## function of OLS to fit the model to the results"
   ]
  },
  {
   "cell_type": "code",
   "execution_count": 21,
   "metadata": {},
   "outputs": [
    {
     "data": {
      "text/html": [
       "<table class=\"simpletable\">\n",
       "<caption>OLS Regression Results</caption>\n",
       "<tr>\n",
       "  <th>Dep. Variable:</th>       <td>BodyLength</td>    <th>  R-squared:         </th> <td>   0.980</td>\n",
       "</tr>\n",
       "<tr>\n",
       "  <th>Model:</th>                   <td>OLS</td>       <th>  Adj. R-squared:    </th> <td>   0.979</td>\n",
       "</tr>\n",
       "<tr>\n",
       "  <th>Method:</th>             <td>Least Squares</td>  <th>  F-statistic:       </th> <td>   1267.</td>\n",
       "</tr>\n",
       "<tr>\n",
       "  <th>Date:</th>             <td>Sat, 07 Nov 2020</td> <th>  Prob (F-statistic):</th> <td>1.38e-23</td>\n",
       "</tr>\n",
       "<tr>\n",
       "  <th>Time:</th>                 <td>11:34:36</td>     <th>  Log-Likelihood:    </th> <td> -105.32</td>\n",
       "</tr>\n",
       "<tr>\n",
       "  <th>No. Observations:</th>      <td>    28</td>      <th>  AIC:               </th> <td>   214.6</td>\n",
       "</tr>\n",
       "<tr>\n",
       "  <th>Df Residuals:</th>          <td>    26</td>      <th>  BIC:               </th> <td>   217.3</td>\n",
       "</tr>\n",
       "<tr>\n",
       "  <th>Df Model:</th>              <td>     1</td>      <th>                     </th>     <td> </td>   \n",
       "</tr>\n",
       "<tr>\n",
       "  <th>Covariance Type:</th>      <td>nonrobust</td>    <th>                     </th>     <td> </td>   \n",
       "</tr>\n",
       "</table>\n",
       "<table class=\"simpletable\">\n",
       "<tr>\n",
       "       <td></td>         <th>coef</th>     <th>std err</th>      <th>t</th>      <th>P>|t|</th>  <th>[0.025</th>    <th>0.975]</th>  \n",
       "</tr>\n",
       "<tr>\n",
       "  <th>const</th>      <td>  -18.2740</td> <td>    9.966</td> <td>   -1.834</td> <td> 0.078</td> <td>  -38.760</td> <td>    2.212</td>\n",
       "</tr>\n",
       "<tr>\n",
       "  <th>HeadLength</th> <td>    7.6601</td> <td>    0.215</td> <td>   35.588</td> <td> 0.000</td> <td>    7.218</td> <td>    8.103</td>\n",
       "</tr>\n",
       "</table>\n",
       "<table class=\"simpletable\">\n",
       "<tr>\n",
       "  <th>Omnibus:</th>       <td> 0.667</td> <th>  Durbin-Watson:     </th> <td>   2.342</td>\n",
       "</tr>\n",
       "<tr>\n",
       "  <th>Prob(Omnibus):</th> <td> 0.716</td> <th>  Jarque-Bera (JB):  </th> <td>   0.597</td>\n",
       "</tr>\n",
       "<tr>\n",
       "  <th>Skew:</th>          <td> 0.323</td> <th>  Prob(JB):          </th> <td>   0.742</td>\n",
       "</tr>\n",
       "<tr>\n",
       "  <th>Kurtosis:</th>      <td> 2.693</td> <th>  Cond. No.          </th> <td>    226.</td>\n",
       "</tr>\n",
       "</table><br/><br/>Warnings:<br/>[1] Standard Errors assume that the covariance matrix of the errors is correctly specified."
      ],
      "text/plain": [
       "<class 'statsmodels.iolib.summary.Summary'>\n",
       "\"\"\"\n",
       "                            OLS Regression Results                            \n",
       "==============================================================================\n",
       "Dep. Variable:             BodyLength   R-squared:                       0.980\n",
       "Model:                            OLS   Adj. R-squared:                  0.979\n",
       "Method:                 Least Squares   F-statistic:                     1267.\n",
       "Date:                Sat, 07 Nov 2020   Prob (F-statistic):           1.38e-23\n",
       "Time:                        11:34:36   Log-Likelihood:                -105.32\n",
       "No. Observations:                  28   AIC:                             214.6\n",
       "Df Residuals:                      26   BIC:                             217.3\n",
       "Df Model:                           1                                         \n",
       "Covariance Type:            nonrobust                                         \n",
       "==============================================================================\n",
       "                 coef    std err          t      P>|t|      [0.025      0.975]\n",
       "------------------------------------------------------------------------------\n",
       "const        -18.2740      9.966     -1.834      0.078     -38.760       2.212\n",
       "HeadLength     7.6601      0.215     35.588      0.000       7.218       8.103\n",
       "==============================================================================\n",
       "Omnibus:                        0.667   Durbin-Watson:                   2.342\n",
       "Prob(Omnibus):                  0.716   Jarque-Bera (JB):                0.597\n",
       "Skew:                           0.323   Prob(JB):                        0.742\n",
       "Kurtosis:                       2.693   Cond. No.                         226.\n",
       "==============================================================================\n",
       "\n",
       "Warnings:\n",
       "[1] Standard Errors assume that the covariance matrix of the errors is correctly specified.\n",
       "\"\"\""
      ]
     },
     "execution_count": 21,
     "metadata": {},
     "output_type": "execute_result"
    }
   ],
   "source": [
    "results.summary()"
   ]
  },
  {
   "cell_type": "code",
   "execution_count": 24,
   "metadata": {},
   "outputs": [],
   "source": []
  },
  {
   "cell_type": "code",
   "execution_count": 25,
   "metadata": {},
   "outputs": [
    {
     "data": {
      "text/plain": [
       "0     -4.568483\n",
       "1     13.431517\n",
       "2     -0.849320\n",
       "3      9.170366\n",
       "4     -1.130157\n",
       "5     11.869843\n",
       "6      7.909215\n",
       "7    -16.410995\n",
       "8     25.948587\n",
       "9     10.007645\n",
       "10     3.608691\n",
       "11   -15.371623\n",
       "12    -7.809948\n",
       "13    14.909215\n",
       "14    -8.809948\n",
       "15     0.928901\n",
       "16    -4.470053\n",
       "17    -1.071099\n",
       "18   -18.130157\n",
       "19     4.288482\n",
       "20    -6.992355\n",
       "21   -10.711518\n",
       "22     3.229424\n",
       "23    -5.371623\n",
       "24    12.268796\n",
       "25     0.648063\n",
       "26   -12.130157\n",
       "27    -4.391309\n",
       "dtype: float64"
      ]
     },
     "execution_count": 25,
     "metadata": {},
     "output_type": "execute_result"
    }
   ],
   "source": [
    "Y_pred = results.predict(X)\n",
    "residuals = Y - Y_pred\n",
    "residuals"
   ]
  },
  {
   "cell_type": "code",
   "execution_count": 31,
   "metadata": {},
   "outputs": [
    {
     "data": {
      "image/png": "[encoded data removed]",
      "text/plain": [
       "<Figure size 432x288 with 1 Axes>"
      ]
     },
     "metadata": {
      "needs_background": "light"
     },
     "output_type": "display_data"
    }
   ],
   "source": [
    "plt.plot(X['HeadLength'], Y, 'o') ## actual values in blue\n",
    "plt.plot(X['HeadLength'],Y_pred, 'o') ## predicted values in orange\n",
    "plt.show()"
   ]
  },
  {
   "cell_type": "code",
   "execution_count": 32,
   "metadata": {},
   "outputs": [
    {
     "data": {
      "image/png": "[encoded data removed]",
      "text/plain": [
       "<Figure size 432x288 with 1 Axes>"
      ]
     },
     "metadata": {
      "needs_background": "light"
     },
     "output_type": "display_data"
    }
   ],
   "source": [
    "sns.lmplot(X['HeadLength'], residuals, 'o')\n",
    "plt.show()"
   ]
  },
  {
   "cell_type": "code",
   "execution_count": 35,
   "metadata": {},
   "outputs": [
    {
     "data": {
      "text/plain": [
       "10.408089501725746"
      ]
     },
     "execution_count": 35,
     "metadata": {},
     "output_type": "execute_result"
    }
   ],
   "source": [
    "np.sqrt(np.mean(residuals**2)) ## Root-Mean-Square Error (RMSE)"
   ]
  },
  {
   "cell_type": "markdown",
   "metadata": {},
   "source": [
    "### Multiple Linear Regression"
   ]
  },
  {
   "cell_type": "code",
   "execution_count": 39,
   "metadata": {},
   "outputs": [],
   "source": [
    "## Using FitBit dataset\n",
    "df = pd.read_csv('Fitbit2.csv')"
   ]
  },
  {
   "cell_type": "code",
   "execution_count": 40,
   "metadata": {},
   "outputs": [
    {
     "data": {
      "text/html": [
       "<div>\n",
       "<style scoped>\n",
       "    .dataframe tbody tr th:only-of-type {\n",
       "        vertical-align: middle;\n",
       "    }\n",
       "\n",
       "    .dataframe tbody tr th {\n",
       "        vertical-align: top;\n",
       "    }\n",
       "\n",
       "    .dataframe thead th {\n",
       "        text-align: right;\n",
       "    }\n",
       "</style>\n",
       "<table border=\"1\" class=\"dataframe\">\n",
       "  <thead>\n",
       "    <tr style=\"text-align: right;\">\n",
       "      <th></th>\n",
       "      <th>Date</th>\n",
       "      <th>Calorie burned</th>\n",
       "      <th>Steps</th>\n",
       "      <th>Distance</th>\n",
       "      <th>Floors</th>\n",
       "      <th>Minutes Sedentary</th>\n",
       "      <th>Minutes Lightly Active</th>\n",
       "      <th>Minutes Fairly Active</th>\n",
       "      <th>Minutes Very Active</th>\n",
       "      <th>Activity Calories</th>\n",
       "      <th>...</th>\n",
       "      <th>Distance_miles</th>\n",
       "      <th>Days</th>\n",
       "      <th>Days_encoded</th>\n",
       "      <th>Work_or_Weekend</th>\n",
       "      <th>Hours Sleep</th>\n",
       "      <th>Sleep efficiency</th>\n",
       "      <th>Yesterday_sleep</th>\n",
       "      <th>Yesterday_sleep_efficiency</th>\n",
       "      <th>Months</th>\n",
       "      <th>Months_encoded</th>\n",
       "    </tr>\n",
       "  </thead>\n",
       "  <tbody>\n",
       "    <tr>\n",
       "      <th>0</th>\n",
       "      <td>2015-05-08</td>\n",
       "      <td>1934</td>\n",
       "      <td>905</td>\n",
       "      <td>0.65</td>\n",
       "      <td>0</td>\n",
       "      <td>1.355</td>\n",
       "      <td>46</td>\n",
       "      <td>0</td>\n",
       "      <td>0</td>\n",
       "      <td>1680</td>\n",
       "      <td>...</td>\n",
       "      <td>0.403891</td>\n",
       "      <td>Friday</td>\n",
       "      <td>4.0</td>\n",
       "      <td>1</td>\n",
       "      <td>6.400000</td>\n",
       "      <td>92.086331</td>\n",
       "      <td>0.000000</td>\n",
       "      <td>0.000000</td>\n",
       "      <td>May</td>\n",
       "      <td>5</td>\n",
       "    </tr>\n",
       "    <tr>\n",
       "      <th>1</th>\n",
       "      <td>2015-05-09</td>\n",
       "      <td>3631</td>\n",
       "      <td>18925</td>\n",
       "      <td>14.11</td>\n",
       "      <td>4</td>\n",
       "      <td>611.000</td>\n",
       "      <td>316</td>\n",
       "      <td>61</td>\n",
       "      <td>60</td>\n",
       "      <td>2248</td>\n",
       "      <td>...</td>\n",
       "      <td>8.767545</td>\n",
       "      <td>Saturday</td>\n",
       "      <td>5.0</td>\n",
       "      <td>0</td>\n",
       "      <td>7.566667</td>\n",
       "      <td>92.464358</td>\n",
       "      <td>6.400000</td>\n",
       "      <td>92.086331</td>\n",
       "      <td>May</td>\n",
       "      <td>5</td>\n",
       "    </tr>\n",
       "    <tr>\n",
       "      <th>2</th>\n",
       "      <td>2015-05-10</td>\n",
       "      <td>3204</td>\n",
       "      <td>14228</td>\n",
       "      <td>10.57</td>\n",
       "      <td>1</td>\n",
       "      <td>602.000</td>\n",
       "      <td>226</td>\n",
       "      <td>14</td>\n",
       "      <td>77</td>\n",
       "      <td>1719</td>\n",
       "      <td>...</td>\n",
       "      <td>6.567891</td>\n",
       "      <td>Sunday</td>\n",
       "      <td>6.0</td>\n",
       "      <td>0</td>\n",
       "      <td>6.450000</td>\n",
       "      <td>88.761468</td>\n",
       "      <td>7.566667</td>\n",
       "      <td>92.464358</td>\n",
       "      <td>May</td>\n",
       "      <td>5</td>\n",
       "    </tr>\n",
       "    <tr>\n",
       "      <th>3</th>\n",
       "      <td>2015-05-11</td>\n",
       "      <td>2673</td>\n",
       "      <td>6756</td>\n",
       "      <td>5.02</td>\n",
       "      <td>8</td>\n",
       "      <td>749.000</td>\n",
       "      <td>190</td>\n",
       "      <td>23</td>\n",
       "      <td>4</td>\n",
       "      <td>9620</td>\n",
       "      <td>...</td>\n",
       "      <td>3.119282</td>\n",
       "      <td>Monday</td>\n",
       "      <td>0.0</td>\n",
       "      <td>1</td>\n",
       "      <td>5.183333</td>\n",
       "      <td>88.857143</td>\n",
       "      <td>6.450000</td>\n",
       "      <td>88.761468</td>\n",
       "      <td>May</td>\n",
       "      <td>5</td>\n",
       "    </tr>\n",
       "    <tr>\n",
       "      <th>4</th>\n",
       "      <td>2015-05-12</td>\n",
       "      <td>2495</td>\n",
       "      <td>502</td>\n",
       "      <td>3.73</td>\n",
       "      <td>1</td>\n",
       "      <td>876.000</td>\n",
       "      <td>171</td>\n",
       "      <td>0</td>\n",
       "      <td>0</td>\n",
       "      <td>7360</td>\n",
       "      <td>...</td>\n",
       "      <td>2.317714</td>\n",
       "      <td>Tuesday</td>\n",
       "      <td>1.0</td>\n",
       "      <td>1</td>\n",
       "      <td>6.783333</td>\n",
       "      <td>82.892057</td>\n",
       "      <td>5.183333</td>\n",
       "      <td>88.857143</td>\n",
       "      <td>May</td>\n",
       "      <td>5</td>\n",
       "    </tr>\n",
       "  </tbody>\n",
       "</table>\n",
       "<p>5 rows × 24 columns</p>\n",
       "</div>"
      ],
      "text/plain": [
       "         Date  Calorie burned  Steps  Distance  Floors  Minutes Sedentary  \\\n",
       "0  2015-05-08            1934    905      0.65       0              1.355   \n",
       "1  2015-05-09            3631  18925     14.11       4            611.000   \n",
       "2  2015-05-10            3204  14228     10.57       1            602.000   \n",
       "3  2015-05-11            2673   6756      5.02       8            749.000   \n",
       "4  2015-05-12            2495    502      3.73       1            876.000   \n",
       "\n",
       "   Minutes Lightly Active  Minutes Fairly Active  Minutes Very Active  \\\n",
       "0                      46                      0                    0   \n",
       "1                     316                     61                   60   \n",
       "2                     226                     14                   77   \n",
       "3                     190                     23                    4   \n",
       "4                     171                      0                    0   \n",
       "\n",
       "   Activity Calories  ...  Distance_miles      Days  Days_encoded  \\\n",
       "0               1680  ...        0.403891    Friday           4.0   \n",
       "1               2248  ...        8.767545  Saturday           5.0   \n",
       "2               1719  ...        6.567891    Sunday           6.0   \n",
       "3               9620  ...        3.119282    Monday           0.0   \n",
       "4               7360  ...        2.317714   Tuesday           1.0   \n",
       "\n",
       "   Work_or_Weekend  Hours Sleep Sleep efficiency  Yesterday_sleep  \\\n",
       "0                1     6.400000        92.086331         0.000000   \n",
       "1                0     7.566667        92.464358         6.400000   \n",
       "2                0     6.450000        88.761468         7.566667   \n",
       "3                1     5.183333        88.857143         6.450000   \n",
       "4                1     6.783333        82.892057         5.183333   \n",
       "\n",
       "   Yesterday_sleep_efficiency  Months  Months_encoded  \n",
       "0                    0.000000     May               5  \n",
       "1                   92.086331     May               5  \n",
       "2                   92.464358     May               5  \n",
       "3                   88.761468     May               5  \n",
       "4                   88.857143     May               5  \n",
       "\n",
       "[5 rows x 24 columns]"
      ]
     },
     "execution_count": 40,
     "metadata": {},
     "output_type": "execute_result"
    }
   ],
   "source": [
    "df.head()"
   ]
  },
  {
   "cell_type": "markdown",
   "metadata": {},
   "source": [
    "steps:\n",
    "1. correlation matrix\n",
    "2. scatterplot MinutesOfBeingAwake versus NumberOfAwakings\n",
    "3. regression with statsmodels: [MinutesOfBeingAwake] = b0 + b1*[NumberOfAwakings]"
   ]
  },
  {
   "cell_type": "code",
   "execution_count": 52,
   "metadata": {},
   "outputs": [
    {
     "data": {
      "text/plain": [
       "<matplotlib.axes._subplots.AxesSubplot at 0x122baeb80>"
      ]
     },
     "execution_count": 52,
     "metadata": {},
     "output_type": "execute_result"
    },
    {
     "data": {
      "image/png": "[encoded data removed]",
      "text/plain": [
       "<Figure size 720x720 with 2 Axes>"
      ]
     },
     "metadata": {
      "needs_background": "light"
     },
     "output_type": "display_data"
    }
   ],
   "source": [
    "# 1. correlation matrix\n",
    "\n",
    "plt.figure(figsize = [10,10])\n",
    "sns.heatmap(df.corr(), vmin = -1, vmax = 1, cmap = 'RdYlGn')"
   ]
  },
  {
   "cell_type": "code",
   "execution_count": 49,
   "metadata": {},
   "outputs": [
    {
     "data": {
      "text/plain": [
       "<seaborn.axisgrid.FacetGrid at 0x123e23970>"
      ]
     },
     "execution_count": 49,
     "metadata": {},
     "output_type": "execute_result"
    },
    {
     "data": {
      "image/png": "[encoded data removed]",
      "text/plain": [
       "<Figure size 360x360 with 1 Axes>"
      ]
     },
     "metadata": {
      "needs_background": "light"
     },
     "output_type": "display_data"
    }
   ],
   "source": [
    "# 2. scatterplot MinutesOfBeingAwake versus NumberOfAwakings\n",
    "sns.lmplot(data = df, x = 'MinutesOfBeingAwake', y = 'NumberOfAwakings')"
   ]
  },
  {
   "cell_type": "code",
   "execution_count": 50,
   "metadata": {},
   "outputs": [],
   "source": [
    "# 3. regression with statsmodels: [MinutesOfBeingAwake] = b0 + b1*[NumberOfAwakings]\n",
    "X = df['NumberOfAwakings']\n",
    "Y = df['MinutesOfBeingAwake']\n",
    "X = sm.add_constant(X)"
   ]
  },
  {
   "cell_type": "code",
   "execution_count": 51,
   "metadata": {},
   "outputs": [
    {
     "data": {
      "text/html": [
       "<table class=\"simpletable\">\n",
       "<caption>OLS Regression Results</caption>\n",
       "<tr>\n",
       "  <th>Dep. Variable:</th>    <td>MinutesOfBeingAwake</td> <th>  R-squared:         </th> <td>   0.906</td> \n",
       "</tr>\n",
       "<tr>\n",
       "  <th>Model:</th>                    <td>OLS</td>         <th>  Adj. R-squared:    </th> <td>   0.906</td> \n",
       "</tr>\n",
       "<tr>\n",
       "  <th>Method:</th>              <td>Least Squares</td>    <th>  F-statistic:       </th> <td>   3516.</td> \n",
       "</tr>\n",
       "<tr>\n",
       "  <th>Date:</th>              <td>Sat, 07 Nov 2020</td>   <th>  Prob (F-statistic):</th> <td>1.89e-189</td>\n",
       "</tr>\n",
       "<tr>\n",
       "  <th>Time:</th>                  <td>12:38:17</td>       <th>  Log-Likelihood:    </th> <td> -1158.1</td> \n",
       "</tr>\n",
       "<tr>\n",
       "  <th>No. Observations:</th>       <td>   367</td>        <th>  AIC:               </th> <td>   2320.</td> \n",
       "</tr>\n",
       "<tr>\n",
       "  <th>Df Residuals:</th>           <td>   365</td>        <th>  BIC:               </th> <td>   2328.</td> \n",
       "</tr>\n",
       "<tr>\n",
       "  <th>Df Model:</th>               <td>     1</td>        <th>                     </th>     <td> </td>    \n",
       "</tr>\n",
       "<tr>\n",
       "  <th>Covariance Type:</th>       <td>nonrobust</td>      <th>                     </th>     <td> </td>    \n",
       "</tr>\n",
       "</table>\n",
       "<table class=\"simpletable\">\n",
       "<tr>\n",
       "          <td></td>            <th>coef</th>     <th>std err</th>      <th>t</th>      <th>P>|t|</th>  <th>[0.025</th>    <th>0.975]</th>  \n",
       "</tr>\n",
       "<tr>\n",
       "  <th>const</th>            <td>    1.4381</td> <td>    0.538</td> <td>    2.675</td> <td> 0.008</td> <td>    0.381</td> <td>    2.495</td>\n",
       "</tr>\n",
       "<tr>\n",
       "  <th>NumberOfAwakings</th> <td>    1.6405</td> <td>    0.028</td> <td>   59.297</td> <td> 0.000</td> <td>    1.586</td> <td>    1.695</td>\n",
       "</tr>\n",
       "</table>\n",
       "<table class=\"simpletable\">\n",
       "<tr>\n",
       "  <th>Omnibus:</th>       <td>17.535</td> <th>  Durbin-Watson:     </th> <td>   1.830</td>\n",
       "</tr>\n",
       "<tr>\n",
       "  <th>Prob(Omnibus):</th> <td> 0.000</td> <th>  Jarque-Bera (JB):  </th> <td>  31.142</td>\n",
       "</tr>\n",
       "<tr>\n",
       "  <th>Skew:</th>          <td> 0.290</td> <th>  Prob(JB):          </th> <td>1.73e-07</td>\n",
       "</tr>\n",
       "<tr>\n",
       "  <th>Kurtosis:</th>      <td> 4.304</td> <th>  Cond. No.          </th> <td>    35.2</td>\n",
       "</tr>\n",
       "</table><br/><br/>Warnings:<br/>[1] Standard Errors assume that the covariance matrix of the errors is correctly specified."
      ],
      "text/plain": [
       "<class 'statsmodels.iolib.summary.Summary'>\n",
       "\"\"\"\n",
       "                             OLS Regression Results                            \n",
       "===============================================================================\n",
       "Dep. Variable:     MinutesOfBeingAwake   R-squared:                       0.906\n",
       "Model:                             OLS   Adj. R-squared:                  0.906\n",
       "Method:                  Least Squares   F-statistic:                     3516.\n",
       "Date:                 Sat, 07 Nov 2020   Prob (F-statistic):          1.89e-189\n",
       "Time:                         12:38:17   Log-Likelihood:                -1158.1\n",
       "No. Observations:                  367   AIC:                             2320.\n",
       "Df Residuals:                      365   BIC:                             2328.\n",
       "Df Model:                            1                                         \n",
       "Covariance Type:             nonrobust                                         \n",
       "====================================================================================\n",
       "                       coef    std err          t      P>|t|      [0.025      0.975]\n",
       "------------------------------------------------------------------------------------\n",
       "const                1.4381      0.538      2.675      0.008       0.381       2.495\n",
       "NumberOfAwakings     1.6405      0.028     59.297      0.000       1.586       1.695\n",
       "==============================================================================\n",
       "Omnibus:                       17.535   Durbin-Watson:                   1.830\n",
       "Prob(Omnibus):                  0.000   Jarque-Bera (JB):               31.142\n",
       "Skew:                           0.290   Prob(JB):                     1.73e-07\n",
       "Kurtosis:                       4.304   Cond. No.                         35.2\n",
       "==============================================================================\n",
       "\n",
       "Warnings:\n",
       "[1] Standard Errors assume that the covariance matrix of the errors is correctly specified.\n",
       "\"\"\""
      ]
     },
     "execution_count": 51,
     "metadata": {},
     "output_type": "execute_result"
    }
   ],
   "source": [
    "model = sm.OLS(Y,X)\n",
    "results = model.fit()\n",
    "results.summary()"
   ]
  },
  {
   "cell_type": "code",
   "execution_count": 61,
   "metadata": {},
   "outputs": [],
   "source": [
    "# Y = b0 + b1 * X\n",
    "# MinutesOfBeingAwake = coefconst + coefNOA * NumberOfAwakings\n",
    "# MinutesOfBeingAwake(5) = 1.4381 + 1.6405 * 5 = 9.64\n",
    "# MinutesOfBeingAwake(6) = 1.4381 + 1.6405 * 6 = 11.2811\n",
    "# MinutesOfBeingAwake"
   ]
  },
  {
   "cell_type": "markdown",
   "metadata": {},
   "source": [
    "### Estimating OLS using statsmodels"
   ]
  },
  {
   "cell_type": "code",
   "execution_count": 62,
   "metadata": {},
   "outputs": [
    {
     "data": {
      "text/html": [
       "<table class=\"simpletable\">\n",
       "<caption>OLS Regression Results</caption>\n",
       "<tr>\n",
       "  <th>Dep. Variable:</th>    <td>MinutesOfBeingAwake</td> <th>  R-squared:         </th> <td>   0.908</td> \n",
       "</tr>\n",
       "<tr>\n",
       "  <th>Model:</th>                    <td>OLS</td>         <th>  Adj. R-squared:    </th> <td>   0.907</td> \n",
       "</tr>\n",
       "<tr>\n",
       "  <th>Method:</th>              <td>Least Squares</td>    <th>  F-statistic:       </th> <td>   1794.</td> \n",
       "</tr>\n",
       "<tr>\n",
       "  <th>Date:</th>              <td>Sat, 07 Nov 2020</td>   <th>  Prob (F-statistic):</th> <td>3.22e-189</td>\n",
       "</tr>\n",
       "<tr>\n",
       "  <th>Time:</th>                  <td>12:59:49</td>       <th>  Log-Likelihood:    </th> <td> -1154.3</td> \n",
       "</tr>\n",
       "<tr>\n",
       "  <th>No. Observations:</th>       <td>   367</td>        <th>  AIC:               </th> <td>   2315.</td> \n",
       "</tr>\n",
       "<tr>\n",
       "  <th>Df Residuals:</th>           <td>   364</td>        <th>  BIC:               </th> <td>   2326.</td> \n",
       "</tr>\n",
       "<tr>\n",
       "  <th>Df Model:</th>               <td>     2</td>        <th>                     </th>     <td> </td>    \n",
       "</tr>\n",
       "<tr>\n",
       "  <th>Covariance Type:</th>       <td>nonrobust</td>      <th>                     </th>     <td> </td>    \n",
       "</tr>\n",
       "</table>\n",
       "<table class=\"simpletable\">\n",
       "<tr>\n",
       "          <td></td>            <th>coef</th>     <th>std err</th>      <th>t</th>      <th>P>|t|</th>  <th>[0.025</th>    <th>0.975]</th>  \n",
       "</tr>\n",
       "<tr>\n",
       "  <th>const</th>            <td>   -0.5001</td> <td>    0.881</td> <td>   -0.567</td> <td> 0.571</td> <td>   -2.233</td> <td>    1.233</td>\n",
       "</tr>\n",
       "<tr>\n",
       "  <th>NumberOfAwakings</th> <td>    1.6336</td> <td>    0.028</td> <td>   59.332</td> <td> 0.000</td> <td>    1.579</td> <td>    1.688</td>\n",
       "</tr>\n",
       "<tr>\n",
       "  <th>Distance_miles</th>   <td>    0.3860</td> <td>    0.140</td> <td>    2.761</td> <td> 0.006</td> <td>    0.111</td> <td>    0.661</td>\n",
       "</tr>\n",
       "</table>\n",
       "<table class=\"simpletable\">\n",
       "<tr>\n",
       "  <th>Omnibus:</th>       <td>17.462</td> <th>  Durbin-Watson:     </th> <td>   1.879</td>\n",
       "</tr>\n",
       "<tr>\n",
       "  <th>Prob(Omnibus):</th> <td> 0.000</td> <th>  Jarque-Bera (JB):  </th> <td>  32.472</td>\n",
       "</tr>\n",
       "<tr>\n",
       "  <th>Skew:</th>          <td> 0.270</td> <th>  Prob(JB):          </th> <td>8.89e-08</td>\n",
       "</tr>\n",
       "<tr>\n",
       "  <th>Kurtosis:</th>      <td> 4.353</td> <th>  Cond. No.          </th> <td>    60.3</td>\n",
       "</tr>\n",
       "</table><br/><br/>Warnings:<br/>[1] Standard Errors assume that the covariance matrix of the errors is correctly specified."
      ],
      "text/plain": [
       "<class 'statsmodels.iolib.summary.Summary'>\n",
       "\"\"\"\n",
       "                             OLS Regression Results                            \n",
       "===============================================================================\n",
       "Dep. Variable:     MinutesOfBeingAwake   R-squared:                       0.908\n",
       "Model:                             OLS   Adj. R-squared:                  0.907\n",
       "Method:                  Least Squares   F-statistic:                     1794.\n",
       "Date:                 Sat, 07 Nov 2020   Prob (F-statistic):          3.22e-189\n",
       "Time:                         12:59:49   Log-Likelihood:                -1154.3\n",
       "No. Observations:                  367   AIC:                             2315.\n",
       "Df Residuals:                      364   BIC:                             2326.\n",
       "Df Model:                            2                                         \n",
       "Covariance Type:             nonrobust                                         \n",
       "====================================================================================\n",
       "                       coef    std err          t      P>|t|      [0.025      0.975]\n",
       "------------------------------------------------------------------------------------\n",
       "const               -0.5001      0.881     -0.567      0.571      -2.233       1.233\n",
       "NumberOfAwakings     1.6336      0.028     59.332      0.000       1.579       1.688\n",
       "Distance_miles       0.3860      0.140      2.761      0.006       0.111       0.661\n",
       "==============================================================================\n",
       "Omnibus:                       17.462   Durbin-Watson:                   1.879\n",
       "Prob(Omnibus):                  0.000   Jarque-Bera (JB):               32.472\n",
       "Skew:                           0.270   Prob(JB):                     8.89e-08\n",
       "Kurtosis:                       4.353   Cond. No.                         60.3\n",
       "==============================================================================\n",
       "\n",
       "Warnings:\n",
       "[1] Standard Errors assume that the covariance matrix of the errors is correctly specified.\n",
       "\"\"\""
      ]
     },
     "execution_count": 62,
     "metadata": {},
     "output_type": "execute_result"
    }
   ],
   "source": [
    "# 3. regression with statsmodels: [MinutesOfBeingAwake] = b0 + b1*[NumberOfAwakings]\n",
    "X = df[['NumberOfAwakings','Distance_miles']] \n",
    "## ACHTUNG! We don't want to bring in numerous variables if these variables are correlated with each other.\n",
    "## This could tamper with coefficients (as they measure how Y reacts to an increment of Xn, ceteris paribus.\n",
    "## If you have other variables that are exactly the same, \"ceteris paribus\" is no longer in place.)\n",
    "Y = df['MinutesOfBeingAwake']\n",
    "X = sm.add_constant(X)\n",
    "model = sm.OLS(Y,X)\n",
    "results = model.fit()\n",
    "results.summary()\n",
    "\n",
    "# No. Observations - Df Residuals - 1 = Df Model (Df = Degrees of freedom)\n",
    "\n",
    "# R-squared, Adj. R-squared, F-statistic, etc. => Goodness of fit\n",
    "\n",
    "# Standard Error: standard deviation of the coefficient. It tells us how precisely we've measured the coefficient, \n",
    "# and how likely it is that the coefficient for the sample is the one for the actual population. This error \n",
    "# decreases as we imcrease the sample or distribution size."
   ]
  },
  {
   "cell_type": "code",
   "execution_count": 63,
   "metadata": {},
   "outputs": [],
   "source": [
    "# [MinutesOfBeingAwake] = -5.001 + 1.6336*[NumberOfAwakings] + 0.3860*[Distance_miles]"
   ]
  },
  {
   "cell_type": "code",
   "execution_count": 64,
   "metadata": {},
   "outputs": [
    {
     "data": {
      "text/html": [
       "<table class=\"simpletable\">\n",
       "<caption>OLS Regression Results</caption>\n",
       "<tr>\n",
       "  <th>Dep. Variable:</th>    <td>MinutesOfBeingAwake</td> <th>  R-squared:         </th> <td>   0.017</td>\n",
       "</tr>\n",
       "<tr>\n",
       "  <th>Model:</th>                    <td>OLS</td>         <th>  Adj. R-squared:    </th> <td>   0.014</td>\n",
       "</tr>\n",
       "<tr>\n",
       "  <th>Method:</th>              <td>Least Squares</td>    <th>  F-statistic:       </th> <td>   6.319</td>\n",
       "</tr>\n",
       "<tr>\n",
       "  <th>Date:</th>              <td>Sat, 07 Nov 2020</td>   <th>  Prob (F-statistic):</th>  <td>0.0124</td> \n",
       "</tr>\n",
       "<tr>\n",
       "  <th>Time:</th>                  <td>14:21:46</td>       <th>  Log-Likelihood:    </th> <td> -1588.7</td>\n",
       "</tr>\n",
       "<tr>\n",
       "  <th>No. Observations:</th>       <td>   367</td>        <th>  AIC:               </th> <td>   3181.</td>\n",
       "</tr>\n",
       "<tr>\n",
       "  <th>Df Residuals:</th>           <td>   365</td>        <th>  BIC:               </th> <td>   3189.</td>\n",
       "</tr>\n",
       "<tr>\n",
       "  <th>Df Model:</th>               <td>     1</td>        <th>                     </th>     <td> </td>   \n",
       "</tr>\n",
       "<tr>\n",
       "  <th>Covariance Type:</th>       <td>nonrobust</td>      <th>                     </th>     <td> </td>   \n",
       "</tr>\n",
       "</table>\n",
       "<table class=\"simpletable\">\n",
       "<tr>\n",
       "         <td></td>           <th>coef</th>     <th>std err</th>      <th>t</th>      <th>P>|t|</th>  <th>[0.025</th>    <th>0.975]</th>  \n",
       "</tr>\n",
       "<tr>\n",
       "  <th>const</th>          <td>   21.9441</td> <td>    2.597</td> <td>    8.451</td> <td> 0.000</td> <td>   16.838</td> <td>   27.051</td>\n",
       "</tr>\n",
       "<tr>\n",
       "  <th>Distance_miles</th> <td>    1.1415</td> <td>    0.454</td> <td>    2.514</td> <td> 0.012</td> <td>    0.248</td> <td>    2.035</td>\n",
       "</tr>\n",
       "</table>\n",
       "<table class=\"simpletable\">\n",
       "<tr>\n",
       "  <th>Omnibus:</th>       <td>17.376</td> <th>  Durbin-Watson:     </th> <td>   1.824</td>\n",
       "</tr>\n",
       "<tr>\n",
       "  <th>Prob(Omnibus):</th> <td> 0.000</td> <th>  Jarque-Bera (JB):  </th> <td>   7.856</td>\n",
       "</tr>\n",
       "<tr>\n",
       "  <th>Skew:</th>          <td> 0.088</td> <th>  Prob(JB):          </th> <td>  0.0197</td>\n",
       "</tr>\n",
       "<tr>\n",
       "  <th>Kurtosis:</th>      <td> 2.305</td> <th>  Cond. No.          </th> <td>    15.9</td>\n",
       "</tr>\n",
       "</table><br/><br/>Warnings:<br/>[1] Standard Errors assume that the covariance matrix of the errors is correctly specified."
      ],
      "text/plain": [
       "<class 'statsmodels.iolib.summary.Summary'>\n",
       "\"\"\"\n",
       "                             OLS Regression Results                            \n",
       "===============================================================================\n",
       "Dep. Variable:     MinutesOfBeingAwake   R-squared:                       0.017\n",
       "Model:                             OLS   Adj. R-squared:                  0.014\n",
       "Method:                  Least Squares   F-statistic:                     6.319\n",
       "Date:                 Sat, 07 Nov 2020   Prob (F-statistic):             0.0124\n",
       "Time:                         14:21:46   Log-Likelihood:                -1588.7\n",
       "No. Observations:                  367   AIC:                             3181.\n",
       "Df Residuals:                      365   BIC:                             3189.\n",
       "Df Model:                            1                                         \n",
       "Covariance Type:             nonrobust                                         \n",
       "==================================================================================\n",
       "                     coef    std err          t      P>|t|      [0.025      0.975]\n",
       "----------------------------------------------------------------------------------\n",
       "const             21.9441      2.597      8.451      0.000      16.838      27.051\n",
       "Distance_miles     1.1415      0.454      2.514      0.012       0.248       2.035\n",
       "==============================================================================\n",
       "Omnibus:                       17.376   Durbin-Watson:                   1.824\n",
       "Prob(Omnibus):                  0.000   Jarque-Bera (JB):                7.856\n",
       "Skew:                           0.088   Prob(JB):                       0.0197\n",
       "Kurtosis:                       2.305   Cond. No.                         15.9\n",
       "==============================================================================\n",
       "\n",
       "Warnings:\n",
       "[1] Standard Errors assume that the covariance matrix of the errors is correctly specified.\n",
       "\"\"\""
      ]
     },
     "execution_count": 64,
     "metadata": {},
     "output_type": "execute_result"
    }
   ],
   "source": [
    "# 3. regression with statsmodels: [MinutesOfBeingAwake] = b0 + b1*[NumberOfAwakings]\n",
    "X = df['Distance_miles']\n",
    "Y = df['MinutesOfBeingAwake']\n",
    "X = sm.add_constant(X)\n",
    "model = sm.OLS(Y,X)\n",
    "results = model.fit()\n",
    "results.summary()\n",
    "\n"
   ]
  },
  {
   "cell_type": "code",
   "execution_count": 65,
   "metadata": {},
   "outputs": [
    {
     "data": {
      "text/plain": [
       "<seaborn.axisgrid.FacetGrid at 0x1245c2a60>"
      ]
     },
     "execution_count": 65,
     "metadata": {},
     "output_type": "execute_result"
    },
    {
     "data": {
      "image/png": "[encoded data removed]",
      "text/plain": [
       "<Figure size 360x360 with 1 Axes>"
      ]
     },
     "metadata": {
      "needs_background": "light"
     },
     "output_type": "display_data"
    }
   ],
   "source": [
    "sns.lmplot(data=df, x='Distance_miles',y='MinutesOfBeingAwake')"
   ]
  },
  {
   "cell_type": "code",
   "execution_count": 66,
   "metadata": {},
   "outputs": [
    {
     "data": {
      "text/plain": [
       "0       3.594798\n",
       "1       3.047414\n",
       "2      16.558390\n",
       "3       5.495090\n",
       "4      40.410107\n",
       "         ...    \n",
       "362     1.033228\n",
       "363    -9.732563\n",
       "364     1.423082\n",
       "365     9.565080\n",
       "366    30.033901\n",
       "Length: 367, dtype: float64"
      ]
     },
     "execution_count": 66,
     "metadata": {},
     "output_type": "execute_result"
    }
   ],
   "source": [
    "Y_pred = results.predict(X)\n",
    "residuals = Y - Y_pred\n",
    "residuals"
   ]
  },
  {
   "cell_type": "code",
   "execution_count": 72,
   "metadata": {},
   "outputs": [
    {
     "data": {
      "image/png": "[encoded data removed]",
      "text/plain": [
       "<Figure size 432x288 with 1 Axes>"
      ]
     },
     "metadata": {
      "needs_background": "light"
     },
     "output_type": "display_data"
    }
   ],
   "source": [
    "plt.scatter(x = df['Distance_miles'], y = residuals)\n",
    "plt.show()"
   ]
  },
  {
   "cell_type": "code",
   "execution_count": null,
   "metadata": {},
   "outputs": [],
   "source": []
  }
 ],
 "metadata": {
  "kernelspec": {
   "display_name": "Python 3",
   "language": "python",
   "name": "python3"
  },
  "language_info": {
   "codemirror_mode": {
    "name": "ipython",
    "version": 3
   },
   "file_extension": ".py",
   "mimetype": "text/x-python",
   "name": "python",
   "nbconvert_exporter": "python",
   "pygments_lexer": "ipython3",
   "version": "3.8.3"
  }
 },
 "nbformat": 4,
 "nbformat_minor": 4
}
