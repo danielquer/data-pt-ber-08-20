{
 "cells": [
  {
   "cell_type": "markdown",
   "metadata": {},
   "source": [
    "## Python error messages"
   ]
  },
  {
   "cell_type": "code",
   "execution_count": 2,
   "metadata": {},
   "outputs": [
    {
     "ename": "ModuleNotFoundError",
     "evalue": "No module named 'nonexistent'",
     "output_type": "error",
     "traceback": [
      "\u001b[0;31m---------------------------------------------------------------------------\u001b[0m",
      "\u001b[0;31mModuleNotFoundError\u001b[0m                       Traceback (most recent call last)",
      "\u001b[0;32m<ipython-input-2-21786552e727>\u001b[0m in \u001b[0;36m<module>\u001b[0;34m\u001b[0m\n\u001b[0;32m----> 1\u001b[0;31m \u001b[0;32mimport\u001b[0m \u001b[0mnonexistent\u001b[0m\u001b[0;34m\u001b[0m\u001b[0;34m\u001b[0m\u001b[0m\n\u001b[0m",
      "\u001b[0;31mModuleNotFoundError\u001b[0m: No module named 'nonexistent'"
     ]
    }
   ],
   "source": [
    "import nonexistent\n",
    "## Trying to import a module I don't have.\n",
    "# How to solve: install module (pip3 install <modulename>)"
   ]
  },
  {
   "cell_type": "code",
   "execution_count": 5,
   "metadata": {},
   "outputs": [],
   "source": [
    "# from bs4 import beautifulsoup\n",
    "## Trying to import a wrong method from an existing module\n",
    "# How to solve: change the method. Probably wrongly spelled.\n",
    "from bs4 import BeautifulSoup"
   ]
  },
  {
   "cell_type": "code",
   "execution_count": 12,
   "metadata": {},
   "outputs": [
    {
     "data": {
      "text/plain": [
       "0"
      ]
     },
     "execution_count": 12,
     "metadata": {},
     "output_type": "execute_result"
    }
   ],
   "source": [
    "mylist = ['name',5,6]\n",
    "# mylist['name']\n",
    "# Trying to access TypeError: list indices must be integers or slices, not str. \n",
    "# How to solve: if we know the index of 'name' and we want 'name':\n",
    "mylist[0]\n",
    "# How to solve: if we don't know the index of 'name' and we want to access it.\n",
    "mylist.index('name')"
   ]
  },
  {
   "cell_type": "code",
   "execution_count": 20,
   "metadata": {},
   "outputs": [
    {
     "ename": "SyntaxError",
     "evalue": "unexpected EOF while parsing (<ipython-input-20-4ec89a0d2242>, line 3)",
     "output_type": "error",
     "traceback": [
      "\u001b[0;36m  File \u001b[0;32m\"<ipython-input-20-4ec89a0d2242>\"\u001b[0;36m, line \u001b[0;32m3\u001b[0m\n\u001b[0;31m    # Easypeasy\u001b[0m\n\u001b[0m               ^\u001b[0m\n\u001b[0;31mSyntaxError\u001b[0m\u001b[0;31m:\u001b[0m unexpected EOF while parsing\n"
     ]
    }
   ],
   "source": [
    "print(mylist[0]\n",
    "# SyntaxError: unexpected EOF while parsing\n",
    "# Easypeasy"
   ]
  },
  {
   "cell_type": "markdown",
   "metadata": {},
   "source": [
    "### Raising custom errors"
   ]
  },
  {
   "cell_type": "code",
   "execution_count": 25,
   "metadata": {},
   "outputs": [
    {
     "name": "stdout",
     "output_type": "stream",
     "text": [
      "You rule!\n"
     ]
    }
   ],
   "source": [
    "def even_number(num):\n",
    "    if num % 2 != 0:\n",
    "        print('Man! You are going to get an error now')\n",
    "        raise ValueError('This is not even an even number, dude!')\n",
    "        print('This will not get printed like, ever')\n",
    "    else:\n",
    "        print('You rule!')\n",
    "## 'raise' will exit -stop- the function. So anything written in the same indentation block below it, will never run.\n",
    "\n",
    "even_number(8)"
   ]
  },
  {
   "cell_type": "markdown",
   "metadata": {},
   "source": [
    "### More stuff"
   ]
  },
  {
   "cell_type": "code",
   "execution_count": 28,
   "metadata": {},
   "outputs": [
    {
     "name": "stdout",
     "output_type": "stream",
     "text": [
      "Hey dude5\n"
     ]
    }
   ],
   "source": [
    "# print('Hey dude' + 5)\n",
    "## TypeError: can only concatenate str (not \"int\") to str\n",
    "## need to specify 5 as a string.\n",
    "print('Hey dude' + str(5))"
   ]
  },
  {
   "cell_type": "markdown",
   "metadata": {},
   "source": [
    "### Bypassing errors. try / except arguments"
   ]
  },
  {
   "cell_type": "code",
   "execution_count": 29,
   "metadata": {},
   "outputs": [
    {
     "name": "stdout",
     "output_type": "stream",
     "text": [
      "Man! You are going to get an error now\n",
      "Not an even number\n"
     ]
    }
   ],
   "source": [
    "## to pass an argument so that it doesn't stop when it finds an error message:\n",
    "mynum = 3\n",
    "try:\n",
    "    even_number(mynum)\n",
    "except: ## this is what you mandate python to do in the event of an error\n",
    "    print('Not an even number')"
   ]
  },
  {
   "cell_type": "code",
   "execution_count": 32,
   "metadata": {},
   "outputs": [
    {
     "name": "stdout",
     "output_type": "stream",
     "text": [
      "Man! You are going to get an error now\n",
      "1 is not an even number\n",
      "You rule!\n",
      "Man! You are going to get an error now\n",
      "3 is not an even number\n",
      "You rule!\n",
      "hello is not an even number\n"
     ]
    }
   ],
   "source": [
    "numlist = [1,2,3,4,'hello']\n",
    "for i in numlist:\n",
    "    try:\n",
    "        even_number(i)\n",
    "    except:\n",
    "        print(str(i) + ' is not an even number')"
   ]
  },
  {
   "cell_type": "code",
   "execution_count": 42,
   "metadata": {},
   "outputs": [
    {
     "name": "stdout",
     "output_type": "stream",
     "text": [
      "Please give me a number:9\n"
     ]
    }
   ],
   "source": [
    "x = input('Please give me a number:')\n",
    "try:\n",
    "    int(x)\n",
    "except:\n",
    "    print('I said we need a number.')\n"
   ]
  },
  {
   "cell_type": "code",
   "execution_count": null,
   "metadata": {},
   "outputs": [],
   "source": []
  }
 ],
 "metadata": {
  "kernelspec": {
   "display_name": "Python 3",
   "language": "python",
   "name": "python3"
  },
  "language_info": {
   "codemirror_mode": {
    "name": "ipython",
    "version": 3
   },
   "file_extension": ".py",
   "mimetype": "text/x-python",
   "name": "python",
   "nbconvert_exporter": "python",
   "pygments_lexer": "ipython3",
   "version": "3.8.3"
  }
 },
 "nbformat": 4,
 "nbformat_minor": 4
}
