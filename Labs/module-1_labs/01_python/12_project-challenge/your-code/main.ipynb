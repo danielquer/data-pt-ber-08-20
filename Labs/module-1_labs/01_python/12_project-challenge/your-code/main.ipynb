{
 "cells": [
  {
   "cell_type": "markdown",
   "metadata": {},
   "source": [
    "## Challenge A: Password Validator\n",
    "\n",
    "#### Description\n",
    "Your job is to create a simple password validation function, as seen on many websites.\n",
    "\n",
    "The rules for a valid password are as follows:\n",
    "\n",
    "There needs to be at least 1 uppercase letter.\n",
    "There needs to be at least 1 lowercase letter.\n",
    "There needs to be at least 1 number.\n",
    "The password needs to be at least 8 characters long.\n",
    "\n",
    "*You are permitted to use any methods to validate the password.*"
   ]
  },
  {
   "cell_type": "code",
   "execution_count": 35,
   "metadata": {},
   "outputs": [
    {
     "data": {
      "text/plain": [
       "['e', 'e', 'e']"
      ]
     },
     "execution_count": 35,
     "metadata": {},
     "output_type": "execute_result"
    }
   ],
   "source": [
    "# your code here\n",
    "import re\n",
    "\n",
    "re.findall('[a-z]', '5445252eee')\n"
   ]
  },
  {
   "cell_type": "code",
   "execution_count": 39,
   "metadata": {},
   "outputs": [
    {
     "name": "stdout",
     "output_type": "stream",
     "text": [
      "Enter your password hereHelloThere2e232\n",
      "Thank you!\n"
     ]
    },
    {
     "data": {
      "text/plain": [
       "'HelloThere2e232'"
      ]
     },
     "execution_count": 39,
     "metadata": {},
     "output_type": "execute_result"
    }
   ],
   "source": [
    "def password_validator():\n",
    "    x = input(\"Enter your password here\")\n",
    "    if len(x) < 8:\n",
    "        print(\"Your password needs to be at least 8 characters long.\")\n",
    "    elif re.findall('[a-z]', x) == []:\n",
    "        print(\"Your password must contain at least 1 lowercase letter.\")\n",
    "    elif re.findall('[A-Z]', x) == []:\n",
    "        print(\"Your password must contain at least 1 uppercase letter.\")\n",
    "    elif re.findall('[0-9]', x) == []:\n",
    "        print(\"Your password must contain at least 1 number.\")\n",
    "    else:\n",
    "        print(\"Thank you!\")\n",
    "    return x\n",
    "\n",
    "password_validator()\n"
   ]
  },
  {
   "cell_type": "markdown",
   "metadata": {},
   "source": [
    "## Challenge B: Credit Card Validator\n",
    "\n",
    "#### Description\n",
    "\n",
    "Your task is to write a program which reads credit card number prints the validation result ‘Valid’ or ‘Invalid’.\n",
    "\n",
    "A valid credit card has following features:\n",
    "\n",
    "- It should start with 4, 5 or 6\n",
    "- It should have exactly 16 digits\n",
    "- It should only consist of digits (0-9)\n",
    "- It may have digits in groups of 4 and separated by one hyphen \"-\"\n",
    "- It should NOT use any other separator like ‘ ’,‘_’, etc.\n",
    "- It should NOT have 4 or more consecutive repeated digits\n",
    "\n",
    "Valid Credit Card Numbers:\n",
    "1. 4263525778615786\n",
    "2. 5535535535559555\n",
    "3. 6344-2389-7542-9163\n",
    "\n",
    "Invalid Credit Card Numbers:\n",
    "1. 42536258796157867       \n",
    "2. 66266666626662666       \n",
    "3. 5122-2368-7954 -3214   \n",
    "4. 44244x4424442444       \n",
    "5. 0525362587961578"
   ]
  },
  {
   "cell_type": "code",
   "execution_count": 2,
   "metadata": {},
   "outputs": [],
   "source": [
    "# your code here \n"
   ]
  },
  {
   "cell_type": "markdown",
   "metadata": {},
   "source": [
    "## Challenge C: Multiplication Table\n",
    "\n",
    "#### Description\n",
    "    \n",
    "Your task, is to create a function which returns a **NxN multiplication table**, of size N provided as a function argument.\n",
    "\n",
    "for example, when given size is 3:\n",
    "\n",
    "1 2 3\n",
    "\n",
    "2 4 6\n",
    "\n",
    "3 6 9\n",
    "\n",
    "So for the given example, the return value should be: [[1,2,3],[2,4,6],[3,6,9]]"
   ]
  },
  {
   "cell_type": "code",
   "execution_count": 355,
   "metadata": {},
   "outputs": [],
   "source": [
    "def multi_table(n):\n",
    "    import numpy as np\n",
    "    a = np.zeros((n,n))\n",
    "    for i in range(n):\n",
    "        a[0][i] = i + 1\n",
    "        a[i][0] = i + 1\n",
    "    for i in range(n):\n",
    "        for j in range(n):\n",
    "            a[i,j] = a[i,0] * a[0][j]\n",
    "    return a"
   ]
  },
  {
   "cell_type": "code",
   "execution_count": 356,
   "metadata": {},
   "outputs": [
    {
     "data": {
      "text/plain": [
       "array([[ 1.,  2.,  3.,  4.],\n",
       "       [ 2.,  4.,  6.,  8.],\n",
       "       [ 3.,  6.,  9., 12.],\n",
       "       [ 4.,  8., 12., 16.]])"
      ]
     },
     "execution_count": 356,
     "metadata": {},
     "output_type": "execute_result"
    }
   ],
   "source": [
    "multi_table(4)"
   ]
  },
  {
   "cell_type": "markdown",
   "metadata": {},
   "source": [
    "## Challenge D: ID Assignment\n",
    "\n",
    "#### Description\n",
    "\n",
    "a) You work in a company with 100 people - to start, please create a list of people ranging from Person 1 to Person 100. For company purposes, each of these people is identified with a Personal ID, which is a combination of 2 uppercase letters and a random number of 5 digits. For each person, generate a random ID, and store it in a dictionary alongside their name (for example ('Person 5': 'AB73648')). Then sort the dictionary according to the values of their Personal IDs.\n",
    "\n",
    "b) One month later, your company changes the ID format for every employee - from now on, every person will have an ID that consists of only letters. In order to convert them, every number in the employee ID should be replaced by the corresponding uppercase letter in the alphabeth. Please write a function that accomplishes this change and apply it to the dictionary."
   ]
  },
  {
   "cell_type": "code",
   "execution_count": 361,
   "metadata": {},
   "outputs": [],
   "source": [
    "# your code here\n",
    "import random\n",
    "import string\n",
    "\n",
    "employee_list = [\"Person \" + str(i) for i in range(1,101)]\n",
    "\n",
    "personal_id_dict = {}\n",
    "\n",
    "for employee in employee_list:\n",
    "    personal_id = ''.join(([str(random.choice(string.ascii_uppercase)) for i in range(0,2)])) + ''.join(([str(random.randint(0,9)) for i in range(0,5)]))\n",
    "    personal_id_dict[employee] = personal_id\n"
   ]
  },
  {
   "cell_type": "code",
   "execution_count": 362,
   "metadata": {},
   "outputs": [],
   "source": [
    "import operator\n",
    "sorted_personal_id_dict = dict(sorted(personal_id_dict.items(), key=operator.itemgetter(1)))\n"
   ]
  },
  {
   "cell_type": "code",
   "execution_count": 205,
   "metadata": {},
   "outputs": [
    {
     "name": "stdout",
     "output_type": "stream",
     "text": [
      "0 A\n"
     ]
    }
   ],
   "source": [
    "number_to_letter = lambda x: chr(ord('A')+x)"
   ]
  },
  {
   "cell_type": "code",
   "execution_count": 214,
   "metadata": {},
   "outputs": [
    {
     "data": {
      "text/plain": [
       "'RMABCDE'"
      ]
     },
     "execution_count": 214,
     "metadata": {},
     "output_type": "execute_result"
    }
   ],
   "source": [
    "def personid_change(x):\n",
    "    new_string_list = []\n",
    "    for i in x:\n",
    "        if i.isnumeric():\n",
    "            y = number_to_letter(int(i))\n",
    "        else:\n",
    "            y = i\n",
    "        new_string_list.append(y)\n",
    "    y = ''.join(new_string_list)\n",
    "    return y\n",
    "personid_change('RM01234')"
   ]
  },
  {
   "cell_type": "code",
   "execution_count": 241,
   "metadata": {},
   "outputs": [],
   "source": [
    "## using a for loop\n",
    "mutated_id_dict = {}\n",
    "for key in personal_id_dict:\n",
    "    mutated_id_dict[key] = personid_change(personal_id_dict[key])\n"
   ]
  },
  {
   "cell_type": "code",
   "execution_count": 261,
   "metadata": {},
   "outputs": [
    {
     "data": {
      "text/plain": [
       "{'Person 1': 'UWGCBFJ',\n",
       " 'Person 2': 'WPFECEA',\n",
       " 'Person 3': 'GLIAFGC',\n",
       " 'Person 4': 'IOGHFHH',\n",
       " 'Person 5': 'LDHIJHA',\n",
       " 'Person 6': 'BOJDDFD',\n",
       " 'Person 7': 'TCIJBEB',\n",
       " 'Person 8': 'AFGJDAC',\n",
       " 'Person 9': 'ZUCAEDG',\n",
       " 'Person 10': 'HOHBFHJ',\n",
       " 'Person 11': 'XBBCGAH',\n",
       " 'Person 12': 'YJEEBAD',\n",
       " 'Person 13': 'XPHHHGI',\n",
       " 'Person 14': 'DQDEJAG',\n",
       " 'Person 15': 'WXDBGCE',\n",
       " 'Person 16': 'MQBBGEI',\n",
       " 'Person 17': 'VZIECED',\n",
       " 'Person 18': 'LRBJIFI',\n",
       " 'Person 19': 'MFJDFHA',\n",
       " 'Person 20': 'UWFACHF',\n",
       " 'Person 21': 'ZBIAFHI',\n",
       " 'Person 22': 'FWDGEBE',\n",
       " 'Person 23': 'KHDEIDD',\n",
       " 'Person 24': 'FEHGAJH',\n",
       " 'Person 25': 'JXGIJIE',\n",
       " 'Person 26': 'UXJIDHI',\n",
       " 'Person 27': 'FCIGAAH',\n",
       " 'Person 28': 'ZXHGFBI',\n",
       " 'Person 29': 'JJHEFDB',\n",
       " 'Person 30': 'SECCGBC',\n",
       " 'Person 31': 'TUIEDEC',\n",
       " 'Person 32': 'FIGIHFF',\n",
       " 'Person 33': 'YQHGCGH',\n",
       " 'Person 34': 'JKEGAAB',\n",
       " 'Person 35': 'JVIDGIA',\n",
       " 'Person 36': 'XQCEGHC',\n",
       " 'Person 37': 'UCAJCBI',\n",
       " 'Person 38': 'LMFJJDC',\n",
       " 'Person 39': 'OYCIGCB',\n",
       " 'Person 40': 'CVDBEJJ',\n",
       " 'Person 41': 'ZLFEGDH',\n",
       " 'Person 42': 'NQJEIJG',\n",
       " 'Person 43': 'LJADGDC',\n",
       " 'Person 44': 'AFCIJGH',\n",
       " 'Person 45': 'YDBJEFA',\n",
       " 'Person 46': 'PDBFABC',\n",
       " 'Person 47': 'GXJABHJ',\n",
       " 'Person 48': 'GKBJJCB',\n",
       " 'Person 49': 'NFBAAAH',\n",
       " 'Person 50': 'ZMEGFJA',\n",
       " 'Person 51': 'FEHBAHJ',\n",
       " 'Person 52': 'LYEJBJE',\n",
       " 'Person 53': 'XYGAGJG',\n",
       " 'Person 54': 'DHHFBDF',\n",
       " 'Person 55': 'HGBJFEA',\n",
       " 'Person 56': 'JOIDCDA',\n",
       " 'Person 57': 'NBDGEEF',\n",
       " 'Person 58': 'NJIHHCC',\n",
       " 'Person 59': 'TIEEEFE',\n",
       " 'Person 60': 'QWDDAII',\n",
       " 'Person 61': 'VAEEGHH',\n",
       " 'Person 62': 'RQGEGGD',\n",
       " 'Person 63': 'GLHFIAA',\n",
       " 'Person 64': 'TSGGCGD',\n",
       " 'Person 65': 'UTCBAHB',\n",
       " 'Person 66': 'CLABAIH',\n",
       " 'Person 67': 'CNCBEAG',\n",
       " 'Person 68': 'BIAEACC',\n",
       " 'Person 69': 'ZZDHCJJ',\n",
       " 'Person 70': 'KBCCJEC',\n",
       " 'Person 71': 'MWIDEEG',\n",
       " 'Person 72': 'XTHACDF',\n",
       " 'Person 73': 'NHECFGD',\n",
       " 'Person 74': 'GUHDIAG',\n",
       " 'Person 75': 'DNFGBJA',\n",
       " 'Person 76': 'TVDDEHC',\n",
       " 'Person 77': 'XLCEFFD',\n",
       " 'Person 78': 'SNJAACE',\n",
       " 'Person 79': 'QAEICGC',\n",
       " 'Person 80': 'TOHHDDA',\n",
       " 'Person 81': 'WQHCJDB',\n",
       " 'Person 82': 'THCEFIA',\n",
       " 'Person 83': 'QDDDGFJ',\n",
       " 'Person 84': 'YKDJGCD',\n",
       " 'Person 85': 'FXGJFJJ',\n",
       " 'Person 86': 'AKJCGHD',\n",
       " 'Person 87': 'ZFGDDGC',\n",
       " 'Person 88': 'SCBGEEJ',\n",
       " 'Person 89': 'BWIGCGE',\n",
       " 'Person 90': 'LPDDBAE',\n",
       " 'Person 91': 'UJADEFB',\n",
       " 'Person 92': 'CSCHHJH',\n",
       " 'Person 93': 'QJDCDGA',\n",
       " 'Person 94': 'YUCBFGI',\n",
       " 'Person 95': 'JAEIEHA',\n",
       " 'Person 96': 'BFHAFBE',\n",
       " 'Person 97': 'HFACJDE',\n",
       " 'Person 98': 'TMEIAHH',\n",
       " 'Person 99': 'XYDCBDB',\n",
       " 'Person 100': 'NPABAHI'}"
      ]
     },
     "execution_count": 261,
     "metadata": {},
     "output_type": "execute_result"
    }
   ],
   "source": [
    "## using map & zip\n",
    "\n",
    "mynewdict = dict([(a,b) for a,b in zip(personal_id_dict.keys(),list(map(personid_change,personal_id_dict.values())))])\n",
    "mynewdict"
   ]
  },
  {
   "cell_type": "code",
   "execution_count": 199,
   "metadata": {},
   "outputs": [],
   "source": [
    "str.isnumeric?"
   ]
  },
  {
   "cell_type": "code",
   "execution_count": 227,
   "metadata": {},
   "outputs": [
    {
     "data": {
      "text/plain": [
       "dict_keys(['Person 85', 'Person 35', 'Person 99', 'Person 28', 'Person 31', 'Person 76', 'Person 50', 'Person 81', 'Person 36', 'Person 98', 'Person 9', 'Person 43', 'Person 74', 'Person 14', 'Person 65', 'Person 84', 'Person 69', 'Person 38', 'Person 93', 'Person 61', 'Person 87', 'Person 59', 'Person 48', 'Person 17', 'Person 5', 'Person 96', 'Person 70', 'Person 67', 'Person 88', 'Person 82', 'Person 21', 'Person 78', 'Person 51', 'Person 77', 'Person 11', 'Person 3', 'Person 2', 'Person 29', 'Person 25', 'Person 15', 'Person 94', 'Person 13', 'Person 7', 'Person 63', 'Person 33', 'Person 34', 'Person 37', 'Person 46', 'Person 19', 'Person 89', 'Person 60', 'Person 6', 'Person 57', 'Person 62', 'Person 100', 'Person 52', 'Person 30', 'Person 39', 'Person 83', 'Person 72', 'Person 73', 'Person 95', 'Person 58', 'Person 32', 'Person 47', 'Person 64', 'Person 20', 'Person 79', 'Person 12', 'Person 91', 'Person 26', 'Person 56', 'Person 53', 'Person 10', 'Person 86', 'Person 55', 'Person 8', 'Person 4', 'Person 45', 'Person 90', 'Person 71', 'Person 66', 'Person 16', 'Person 18', 'Person 40', 'Person 23', 'Person 68', 'Person 24', 'Person 49', 'Person 75', 'Person 44', 'Person 42', 'Person 41', 'Person 97', 'Person 22', 'Person 27', 'Person 80', 'Person 54', 'Person 92', 'Person 1'])"
      ]
     },
     "execution_count": 227,
     "metadata": {},
     "output_type": "execute_result"
    }
   ],
   "source": [
    "sorted_personal_id_dict.keys()"
   ]
  }
 ],
 "metadata": {
  "kernelspec": {
   "display_name": "Python 3",
   "language": "python",
   "name": "python3"
  },
  "language_info": {
   "codemirror_mode": {
    "name": "ipython",
    "version": 3
   },
   "file_extension": ".py",
   "mimetype": "text/x-python",
   "name": "python",
   "nbconvert_exporter": "python",
   "pygments_lexer": "ipython3",
   "version": "3.8.3"
  }
 },
 "nbformat": 4,
 "nbformat_minor": 2
}
