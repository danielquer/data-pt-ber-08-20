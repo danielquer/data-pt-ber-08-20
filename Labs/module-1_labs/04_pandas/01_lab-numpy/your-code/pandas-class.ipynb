{
 "cells": [
  {
   "cell_type": "code",
   "execution_count": 1,
   "metadata": {},
   "outputs": [],
   "source": [
    "import numpy as np"
   ]
  },
  {
   "cell_type": "code",
   "execution_count": 2,
   "metadata": {},
   "outputs": [],
   "source": [
    "import pandas as pd"
   ]
  },
  {
   "cell_type": "code",
   "execution_count": 3,
   "metadata": {},
   "outputs": [],
   "source": [
    "pd?"
   ]
  },
  {
   "cell_type": "code",
   "execution_count": 8,
   "metadata": {},
   "outputs": [],
   "source": [
    "### Data Structure 1: Series"
   ]
  },
  {
   "cell_type": "code",
   "execution_count": 4,
   "metadata": {},
   "outputs": [
    {
     "data": {
      "text/plain": [
       "array([0, 1, 2, 3, 4, 5, 6, 7, 8, 9])"
      ]
     },
     "execution_count": 4,
     "metadata": {},
     "output_type": "execute_result"
    }
   ],
   "source": [
    "np.arange(10)"
   ]
  },
  {
   "cell_type": "code",
   "execution_count": 9,
   "metadata": {},
   "outputs": [],
   "source": [
    "a = pd.Series(np.arange(10))"
   ]
  },
  {
   "cell_type": "code",
   "execution_count": 11,
   "metadata": {},
   "outputs": [
    {
     "name": "stdout",
     "output_type": "stream",
     "text": [
      "0     0\n",
      "1    10\n",
      "2    20\n",
      "3    30\n",
      "4    40\n",
      "5    50\n",
      "6    60\n",
      "7    70\n",
      "8    80\n",
      "9    90\n",
      "dtype: int64\n"
     ]
    }
   ],
   "source": [
    "print(a * 10)"
   ]
  },
  {
   "cell_type": "code",
   "execution_count": 15,
   "metadata": {},
   "outputs": [
    {
     "name": "stdout",
     "output_type": "stream",
     "text": [
      "a    0\n",
      "b    1\n",
      "c    2\n",
      "d    3\n",
      "e    4\n",
      "f    5\n",
      "g    6\n",
      "h    7\n",
      "i    8\n",
      "j    9\n",
      "dtype: int64\n",
      "5\n"
     ]
    }
   ],
   "source": [
    "b = pd.Series(np.arange(10), index = ['a','b','c','d','e','f','g','h','i','j'])\n",
    "print(b)\n",
    "print(b['f'])"
   ]
  },
  {
   "cell_type": "code",
   "execution_count": 17,
   "metadata": {},
   "outputs": [
    {
     "data": {
      "text/plain": [
       "a    0\n",
       "b    1\n",
       "c    2\n",
       "d    3\n",
       "e    4\n",
       "dtype: int64"
      ]
     },
     "execution_count": 17,
     "metadata": {},
     "output_type": "execute_result"
    }
   ],
   "source": [
    "mydict = { 'a': 0, 'b': 1, 'c': 2, 'd':3, 'e': 4}\n",
    "pd.Series(mydict)"
   ]
  },
  {
   "cell_type": "code",
   "execution_count": 18,
   "metadata": {},
   "outputs": [],
   "source": [
    "## Data Structure 2: DataFrames"
   ]
  },
  {
   "cell_type": "code",
   "execution_count": 20,
   "metadata": {},
   "outputs": [
    {
     "name": "stdout",
     "output_type": "stream",
     "text": [
      "   0\n",
      "0  0\n",
      "1  1\n",
      "2  2\n",
      "3  3\n",
      "4  4\n",
      "5  5\n",
      "6  6\n",
      "7  7\n",
      "8  8\n",
      "9  9\n"
     ]
    }
   ],
   "source": [
    "df_ser = pd.DataFrame(np.arange(10))\n",
    "print(df_ser)"
   ]
  },
  {
   "cell_type": "code",
   "execution_count": 23,
   "metadata": {},
   "outputs": [
    {
     "name": "stdout",
     "output_type": "stream",
     "text": [
      "          0         1         2         3         4         5         6  \\\n",
      "0  0.832257  0.009545  0.024104  0.570148  0.565632  0.402462  0.084092   \n",
      "1  0.890926  0.477999  0.725224  0.101065  0.771503  0.193580  0.982221   \n",
      "2  0.075282  0.372591  0.905263  0.034934  0.304951  0.978895  0.080883   \n",
      "3  0.522569  0.772711  0.713586  0.760401  0.730532  0.057301  0.912318   \n",
      "4  0.300373  0.613627  0.010804  0.792312  0.676413  0.151111  0.014681   \n",
      "5  0.985472  0.418905  0.578119  0.600935  0.627377  0.256630  0.286660   \n",
      "6  0.712970  0.036722  0.761780  0.571032  0.603304  0.706151  0.784829   \n",
      "7  0.079950  0.613027  0.898483  0.615604  0.859226  0.196003  0.609187   \n",
      "8  0.304682  0.893714  0.108815  0.641147  0.286497  0.428930  0.430769   \n",
      "9  0.940160  0.564388  0.585646  0.126690  0.962676  0.546905  0.700996   \n",
      "\n",
      "          7         8         9  \n",
      "0  0.009294  0.669285  0.606377  \n",
      "1  0.351823  0.438031  0.236521  \n",
      "2  0.920677  0.682296  0.698769  \n",
      "3  0.727965  0.653437  0.340257  \n",
      "4  0.725914  0.091408  0.477888  \n",
      "5  0.298712  0.539540  0.871668  \n",
      "6  0.593297  0.392356  0.861535  \n",
      "7  0.544391  0.108821  0.772150  \n",
      "8  0.433932  0.102780  0.701542  \n",
      "9  0.023631  0.284577  0.404616  \n"
     ]
    }
   ],
   "source": [
    "random_array = np.random.random((10,10))\n",
    "df = pd.DataFrame(random_array)\n",
    "print(df)"
   ]
  },
  {
   "cell_type": "code",
   "execution_count": 25,
   "metadata": {},
   "outputs": [
    {
     "name": "stdout",
     "output_type": "stream",
     "text": [
      "    Juanito    Banana   Ignacio    Arturo       Leo    Marcos  Fernando  \\\n",
      "0  0.832257  0.009545  0.024104  0.570148  0.565632  0.402462  0.084092   \n",
      "1  0.890926  0.477999  0.725224  0.101065  0.771503  0.193580  0.982221   \n",
      "2  0.075282  0.372591  0.905263  0.034934  0.304951  0.978895  0.080883   \n",
      "3  0.522569  0.772711  0.713586  0.760401  0.730532  0.057301  0.912318   \n",
      "4  0.300373  0.613627  0.010804  0.792312  0.676413  0.151111  0.014681   \n",
      "5  0.985472  0.418905  0.578119  0.600935  0.627377  0.256630  0.286660   \n",
      "6  0.712970  0.036722  0.761780  0.571032  0.603304  0.706151  0.784829   \n",
      "7  0.079950  0.613027  0.898483  0.615604  0.859226  0.196003  0.609187   \n",
      "8  0.304682  0.893714  0.108815  0.641147  0.286497  0.428930  0.430769   \n",
      "9  0.940160  0.564388  0.585646  0.126690  0.962676  0.546905  0.700996   \n",
      "\n",
      "      David  Cristian   Eduardo  \n",
      "0  0.009294  0.669285  0.606377  \n",
      "1  0.351823  0.438031  0.236521  \n",
      "2  0.920677  0.682296  0.698769  \n",
      "3  0.727965  0.653437  0.340257  \n",
      "4  0.725914  0.091408  0.477888  \n",
      "5  0.298712  0.539540  0.871668  \n",
      "6  0.593297  0.392356  0.861535  \n",
      "7  0.544391  0.108821  0.772150  \n",
      "8  0.433932  0.102780  0.701542  \n",
      "9  0.023631  0.284577  0.404616  \n",
      "0    0.009545\n",
      "1    0.477999\n",
      "2    0.372591\n",
      "3    0.772711\n",
      "4    0.613627\n",
      "5    0.418905\n",
      "6    0.036722\n",
      "7    0.613027\n",
      "8    0.893714\n",
      "9    0.564388\n",
      "Name: Banana, dtype: float64\n"
     ]
    }
   ],
   "source": [
    "colnames = ['Juanito','Banana','Ignacio','Arturo','Leo','Marcos','Fernando','David','Cristian','Eduardo']\n",
    "df_col = pd.DataFrame(random_array, columns=colnames)\n",
    "print(df_col)"
   ]
  },
  {
   "cell_type": "code",
   "execution_count": 26,
   "metadata": {},
   "outputs": [
    {
     "name": "stdout",
     "output_type": "stream",
     "text": [
      "0    0.009545\n",
      "1    0.477999\n",
      "2    0.372591\n",
      "3    0.772711\n",
      "4    0.613627\n",
      "5    0.418905\n",
      "6    0.036722\n",
      "7    0.613027\n",
      "8    0.893714\n",
      "9    0.564388\n",
      "Name: Banana, dtype: float64\n"
     ]
    }
   ],
   "source": [
    "print(df_col['Banana'])"
   ]
  },
  {
   "cell_type": "code",
   "execution_count": 40,
   "metadata": {},
   "outputs": [
    {
     "data": {
      "text/plain": [
       "5    0.418905\n",
       "6    0.036722\n",
       "7    0.613027\n",
       "8    0.893714\n",
       "Name: Banana, dtype: float64"
      ]
     },
     "execution_count": 40,
     "metadata": {},
     "output_type": "execute_result"
    }
   ],
   "source": [
    "df_col['Banana'][-5:-1]"
   ]
  },
  {
   "cell_type": "code",
   "execution_count": null,
   "metadata": {},
   "outputs": [],
   "source": [
    "## Converting other structures to DataFrames"
   ]
  },
  {
   "cell_type": "code",
   "execution_count": 41,
   "metadata": {},
   "outputs": [
    {
     "data": {
      "text/html": [
       "<div>\n",
       "<style scoped>\n",
       "    .dataframe tbody tr th:only-of-type {\n",
       "        vertical-align: middle;\n",
       "    }\n",
       "\n",
       "    .dataframe tbody tr th {\n",
       "        vertical-align: top;\n",
       "    }\n",
       "\n",
       "    .dataframe thead th {\n",
       "        text-align: right;\n",
       "    }\n",
       "</style>\n",
       "<table border=\"1\" class=\"dataframe\">\n",
       "  <thead>\n",
       "    <tr style=\"text-align: right;\">\n",
       "      <th></th>\n",
       "      <th>MyColumn</th>\n",
       "    </tr>\n",
       "  </thead>\n",
       "  <tbody>\n",
       "    <tr>\n",
       "      <th>0</th>\n",
       "      <td>4</td>\n",
       "    </tr>\n",
       "    <tr>\n",
       "      <th>1</th>\n",
       "      <td>5</td>\n",
       "    </tr>\n",
       "    <tr>\n",
       "      <th>2</th>\n",
       "      <td>6</td>\n",
       "    </tr>\n",
       "    <tr>\n",
       "      <th>3</th>\n",
       "      <td>7</td>\n",
       "    </tr>\n",
       "    <tr>\n",
       "      <th>4</th>\n",
       "      <td>8</td>\n",
       "    </tr>\n",
       "  </tbody>\n",
       "</table>\n",
       "</div>"
      ],
      "text/plain": [
       "   MyColumn\n",
       "0         4\n",
       "1         5\n",
       "2         6\n",
       "3         7\n",
       "4         8"
      ]
     },
     "execution_count": 41,
     "metadata": {},
     "output_type": "execute_result"
    }
   ],
   "source": [
    "mylist = [4,5,6,7,8]\n",
    "pd.DataFrame(mylist,columns = [\"MyColumn\"])"
   ]
  },
  {
   "cell_type": "code",
   "execution_count": 45,
   "metadata": {},
   "outputs": [
    {
     "data": {
      "text/html": [
       "<div>\n",
       "<style scoped>\n",
       "    .dataframe tbody tr th:only-of-type {\n",
       "        vertical-align: middle;\n",
       "    }\n",
       "\n",
       "    .dataframe tbody tr th {\n",
       "        vertical-align: top;\n",
       "    }\n",
       "\n",
       "    .dataframe thead th {\n",
       "        text-align: right;\n",
       "    }\n",
       "</style>\n",
       "<table border=\"1\" class=\"dataframe\">\n",
       "  <thead>\n",
       "    <tr style=\"text-align: right;\">\n",
       "      <th></th>\n",
       "      <th>0</th>\n",
       "      <th>1</th>\n",
       "      <th>2</th>\n",
       "    </tr>\n",
       "  </thead>\n",
       "  <tbody>\n",
       "    <tr>\n",
       "      <th>Breed</th>\n",
       "      <td>Cat</td>\n",
       "      <td>Dog</td>\n",
       "      <td>GuineaPig</td>\n",
       "    </tr>\n",
       "    <tr>\n",
       "      <th>Name</th>\n",
       "      <td>Meowy</td>\n",
       "      <td>Bello</td>\n",
       "      <td>Carmen</td>\n",
       "    </tr>\n",
       "  </tbody>\n",
       "</table>\n",
       "</div>"
      ],
      "text/plain": [
       "           0      1          2\n",
       "Breed    Cat    Dog  GuineaPig\n",
       "Name   Meowy  Bello     Carmen"
      ]
     },
     "execution_count": 45,
     "metadata": {},
     "output_type": "execute_result"
    }
   ],
   "source": [
    "mydict = {\"Breed\": [\"Cat\", \"Dog\", \"GuineaPig\"], \"Name\":[\"Meowy\", \"Bello\", \"Carmen\"]}\n",
    "pd.DataFrame.from_dict(mydict,orient='index')"
   ]
  },
  {
   "cell_type": "code",
   "execution_count": 50,
   "metadata": {},
   "outputs": [
    {
     "name": "stdout",
     "output_type": "stream",
     "text": [
      "0.5644641128886656\n",
      "Juanito     0.564464\n",
      "Banana      0.477323\n",
      "Ignacio     0.531182\n",
      "Arturo      0.481427\n",
      "Leo         0.638811\n",
      "Marcos      0.391797\n",
      "Fernando    0.488664\n",
      "David       0.462963\n",
      "Cristian    0.396253\n",
      "Eduardo     0.597132\n",
      "dtype: float64\n"
     ]
    }
   ],
   "source": [
    "print(df_col['Juanito'].mean())\n",
    "print(df_col.mean(axis=0))"
   ]
  },
  {
   "cell_type": "code",
   "execution_count": null,
   "metadata": {},
   "outputs": [],
   "source": []
  },
  {
   "cell_type": "code",
   "execution_count": null,
   "metadata": {},
   "outputs": [],
   "source": []
  },
  {
   "cell_type": "code",
   "execution_count": null,
   "metadata": {},
   "outputs": [],
   "source": []
  },
  {
   "cell_type": "code",
   "execution_count": null,
   "metadata": {},
   "outputs": [],
   "source": []
  },
  {
   "cell_type": "code",
   "execution_count": null,
   "metadata": {},
   "outputs": [],
   "source": []
  },
  {
   "cell_type": "code",
   "execution_count": null,
   "metadata": {},
   "outputs": [],
   "source": []
  }
 ],
 "metadata": {
  "kernelspec": {
   "display_name": "Python 3",
   "language": "python",
   "name": "python3"
  },
  "language_info": {
   "codemirror_mode": {
    "name": "ipython",
    "version": 3
   },
   "file_extension": ".py",
   "mimetype": "text/x-python",
   "name": "python",
   "nbconvert_exporter": "python",
   "pygments_lexer": "ipython3",
   "version": "3.8.3"
  }
 },
 "nbformat": 4,
 "nbformat_minor": 4
}
