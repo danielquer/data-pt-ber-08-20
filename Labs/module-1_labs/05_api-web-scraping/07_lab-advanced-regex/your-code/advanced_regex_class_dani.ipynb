{
 "cells": [
  {
   "cell_type": "markdown",
   "metadata": {},
   "source": [
    "### Advanced Regex"
   ]
  },
  {
   "cell_type": "code",
   "execution_count": 5,
   "metadata": {},
   "outputs": [],
   "source": [
    "import re"
   ]
  },
  {
   "cell_type": "markdown",
   "metadata": {},
   "source": [
    "#### Repetition: searching for basic patterns"
   ]
  },
  {
   "cell_type": "code",
   "execution_count": 62,
   "metadata": {},
   "outputs": [],
   "source": [
    "text = 'That dog is very fluffy.'"
   ]
  },
  {
   "cell_type": "code",
   "execution_count": 7,
   "metadata": {},
   "outputs": [
    {
     "data": {
      "text/plain": [
       "['f', 'f', 'f']"
      ]
     },
     "execution_count": 7,
     "metadata": {},
     "output_type": "execute_result"
    }
   ],
   "source": [
    "pattern = 'f'\n",
    "# Look for all occurrences of pattern and create a list with them: \n",
    "re.findall(pattern,text)\n"
   ]
  },
  {
   "cell_type": "code",
   "execution_count": 8,
   "metadata": {},
   "outputs": [
    {
     "data": {
      "text/plain": [
       "<re.Match object; span=(17, 18), match='f'>"
      ]
     },
     "execution_count": 8,
     "metadata": {},
     "output_type": "execute_result"
    }
   ],
   "source": [
    "# Look for first occurrence of pattern: \n",
    "re.search(pattern,text)\n"
   ]
  },
  {
   "cell_type": "code",
   "execution_count": 22,
   "metadata": {},
   "outputs": [],
   "source": [
    "# Look if pattern is in the beginning of text:\n",
    "re.match(pattern,text)\n",
    "# No result: No\n"
   ]
  },
  {
   "cell_type": "code",
   "execution_count": 20,
   "metadata": {},
   "outputs": [
    {
     "data": {
      "text/plain": [
       "<re.Match object; span=(0, 1), match='T'>"
      ]
     },
     "execution_count": 20,
     "metadata": {},
     "output_type": "execute_result"
    }
   ],
   "source": [
    "# Look if text starts with uppercase letter:\n",
    "re.match('[A-Z]',text)"
   ]
  },
  {
   "cell_type": "code",
   "execution_count": 26,
   "metadata": {},
   "outputs": [
    {
     "data": {
      "text/plain": [
       "['uf']"
      ]
     },
     "execution_count": 26,
     "metadata": {},
     "output_type": "execute_result"
    }
   ],
   "source": [
    "# Check entire pattern in text\n",
    "pattern = 'uf'\n",
    "re.findall(pattern,text)"
   ]
  },
  {
   "cell_type": "code",
   "execution_count": 25,
   "metadata": {},
   "outputs": [
    {
     "data": {
      "text/plain": [
       "['f', 'u', 'f', 'f']"
      ]
     },
     "execution_count": 25,
     "metadata": {},
     "output_type": "execute_result"
    }
   ],
   "source": [
    "# Check for set of characters in text\n",
    "pattern = '[uf]'\n",
    "re.findall(pattern,text)"
   ]
  },
  {
   "cell_type": "markdown",
   "metadata": {},
   "source": [
    "### [ ] Match set of characters"
   ]
  },
  {
   "cell_type": "code",
   "execution_count": 39,
   "metadata": {},
   "outputs": [
    {
     "data": {
      "text/plain": [
       "['gray', 'grey', 'gruy']"
      ]
     },
     "execution_count": 39,
     "metadata": {},
     "output_type": "execute_result"
    }
   ],
   "source": [
    "text2 = 'Is it spelled gray, gr2y, grey, graey or gruy?'\n",
    "pattern2 = 'gr[aeiou]y'\n",
    "\n",
    "re.findall(pattern2,text2)"
   ]
  },
  {
   "cell_type": "code",
   "execution_count": 43,
   "metadata": {},
   "outputs": [
    {
     "data": {
      "text/plain": [
       "['A', 'B', 'C']"
      ]
     },
     "execution_count": 43,
     "metadata": {},
     "output_type": "execute_result"
    }
   ],
   "source": [
    "text3 = 'This is an A and B conversation, so C your way out of it you D!'\n",
    "\n",
    "re.findall('[A-C]',text3)"
   ]
  },
  {
   "cell_type": "markdown",
   "metadata": {},
   "source": [
    "### Match any character except newline (\\n)"
   ]
  },
  {
   "cell_type": "code",
   "execution_count": 58,
   "metadata": {},
   "outputs": [
    {
     "name": "stdout",
     "output_type": "stream",
     "text": [
      "I'm so excited, \n",
      "And I can't get started! \n",
      "I got 370 bills I gotta pay\n",
      "['I', \"'\", 'm', ' ', 's', 'o', ' ', 'e', 'x', 'c', 'i', 't', 'e', 'd', ',', ' ', 'A', 'n', 'd', ' ', 'I', ' ', 'c', 'a', 'n', \"'\", 't', ' ', 'g', 'e', 't', ' ', 's', 't', 'a', 'r', 't', 'e', 'd', '!', ' ', 'I', ' ', 'g', 'o', 't', ' ', '3', '7', '0', ' ', 'b', 'i', 'l', 'l', 's', ' ', 'I', ' ', 'g', 'o', 't', 't', 'a', ' ', 'p', 'a', 'y']\n"
     ]
    }
   ],
   "source": [
    "pattern = '.' ## This dot means every character except newline.\n",
    "text4 = 'I\\'m so excited, \\nAnd I can\\'t get started! \\nI got 370 bills I gotta pay'\n",
    "print(text4)\n",
    "print(re.findall(pattern,text4))"
   ]
  },
  {
   "cell_type": "markdown",
   "metadata": {},
   "source": [
    "### Match character not listed if within set OR match beginning of line"
   ]
  },
  {
   "cell_type": "code",
   "execution_count": 60,
   "metadata": {},
   "outputs": [
    {
     "name": "stdout",
     "output_type": "stream",
     "text": [
      "['I', \"'\", ' ', ' ', 'c', ',', ' ', '\\n', 'A', ' ', 'I', ' ', 'c', 'a', \"'\", ' ', ' ', 'a', '!', ' ', '\\n', 'I', ' ', ' ', '3', '7', '0', ' ', 'b', ' ', 'I', ' ', 'a', ' ', 'a']\n"
     ]
    }
   ],
   "source": [
    "pattern = '[^d-z]'\n",
    "print(re.findall(pattern, text4))"
   ]
  },
  {
   "cell_type": "code",
   "execution_count": 61,
   "metadata": {},
   "outputs": [
    {
     "name": "stdout",
     "output_type": "stream",
     "text": [
      "['I', \"'\", ',', '\\n', 'A', 'I', \"'\", '\\n', 'I', 'I']\n"
     ]
    }
   ],
   "source": [
    "pattern = '[^a-z0-9! ]'\n",
    "print(re.findall(pattern, text4))"
   ]
  },
  {
   "cell_type": "markdown",
   "metadata": {},
   "source": [
    "### $ Match end of line"
   ]
  },
  {
   "cell_type": "code",
   "execution_count": 77,
   "metadata": {},
   "outputs": [
    {
     "name": "stdout",
     "output_type": "stream",
     "text": [
      "['That dog']\n"
     ]
    }
   ],
   "source": [
    "pattern = 'That dog$'\n",
    "text6 = 'That dog is very fluffy. That dog'\n",
    "\n",
    "print(re.findall(pattern,text6))"
   ]
  },
  {
   "cell_type": "code",
   "execution_count": 76,
   "metadata": {},
   "outputs": [
    {
     "name": "stdout",
     "output_type": "stream",
     "text": [
      "[]\n"
     ]
    }
   ],
   "source": [
    "pattern = '^fluffy.'\n",
    "text7 = 'That dog is very fluffy.\\n That dog'\n",
    "\n",
    "print(re.findall(pattern,text7))"
   ]
  },
  {
   "cell_type": "code",
   "execution_count": 75,
   "metadata": {},
   "outputs": [
    {
     "name": "stdout",
     "output_type": "stream",
     "text": [
      "[]\n"
     ]
    }
   ],
   "source": [
    "pattern = 'fluffy.$'\n",
    "text8 = 'That dog is very fluffy.\\nThat dog'\n",
    "\n",
    "print(re.findall(pattern,text8))"
   ]
  },
  {
   "cell_type": "code",
   "execution_count": 78,
   "metadata": {},
   "outputs": [
    {
     "name": "stdout",
     "output_type": "stream",
     "text": [
      "['dog', 'fluffy', 'dog']\n"
     ]
    }
   ],
   "source": [
    "pattern = 'fluffy|dog'\n",
    "text9 = 'That dog is very fluffy.\\nThat dog'\n",
    "\n",
    "print(re.findall(pattern,text9))"
   ]
  },
  {
   "cell_type": "markdown",
   "metadata": {},
   "source": [
    "### * Matches previous character 0 or more times"
   ]
  },
  {
   "cell_type": "code",
   "execution_count": 85,
   "metadata": {},
   "outputs": [
    {
     "name": "stdout",
     "output_type": "stream",
     "text": [
      "['dog', 'doog', 'doooooooog', 'ddddddog', 'g', 'g', 'g', 'dddddooooog', 'g', 'g', 'g', 'dddoog', 'g', 'g', 'g', 'g', 'g', 'dooog', 'g', 'g', 'g', 'g']\n"
     ]
    }
   ],
   "source": [
    "dogtext = 'dog doog doooooooog ddddddogggg dddddooooogggg dddoogg deeeaggg diiig dooogggg dug'\n",
    "pattern = 'd*o*g' ## matching d 0 or more times\n",
    "print(re.findall(pattern,dogtext))\n"
   ]
  },
  {
   "cell_type": "markdown",
   "metadata": {},
   "source": [
    "### + Matches previous character 1 or more times"
   ]
  },
  {
   "cell_type": "code",
   "execution_count": 90,
   "metadata": {},
   "outputs": [
    {
     "name": "stdout",
     "output_type": "stream",
     "text": [
      "['dog', 'doog', 'doooooooog', 'ddddddog', 'dddddooooog', 'dddoog', 'dooog']\n"
     ]
    }
   ],
   "source": [
    "pattern = 'd+o+g'\n",
    "print(re.findall(pattern,dogtext))"
   ]
  },
  {
   "cell_type": "markdown",
   "metadata": {},
   "source": [
    "### ? Matches previous character 0 or 1 times (optional)"
   ]
  },
  {
   "cell_type": "code",
   "execution_count": 92,
   "metadata": {},
   "outputs": [
    {
     "name": "stdout",
     "output_type": "stream",
     "text": [
      "['dog', 'og', 'og', 'dog', 'og', 'og', 'og']\n"
     ]
    }
   ],
   "source": [
    "pattern = 'd?og'\n",
    "print(re.findall(pattern,dogtext))"
   ]
  },
  {
   "cell_type": "markdown",
   "metadata": {},
   "source": [
    "### {num1,num2} Matches previous characters num1-num2 times"
   ]
  },
  {
   "cell_type": "code",
   "execution_count": 107,
   "metadata": {},
   "outputs": [
    {
     "name": "stdout",
     "output_type": "stream",
     "text": [
      "['dddog']\n"
     ]
    }
   ],
   "source": [
    "pattern = 'd{2,3}og'\n",
    "print(re.findall(pattern,dogtext))"
   ]
  },
  {
   "cell_type": "markdown",
   "metadata": {},
   "source": [
    "### Challenge: Extract all the words from the following sentence:"
   ]
  },
  {
   "cell_type": "code",
   "execution_count": 104,
   "metadata": {},
   "outputs": [
    {
     "data": {
      "text/plain": [
       "['Every', 'cat', 'has', 'seven', 'lives']"
      ]
     },
     "execution_count": 104,
     "metadata": {},
     "output_type": "execute_result"
    }
   ],
   "source": [
    "cattext = 'Every cat has seven lives.'\n",
    "pattern = '[\\w]+' ## \\w gives every alphanumeric character.\n",
    "re.findall(pattern,cattext)"
   ]
  },
  {
   "cell_type": "markdown",
   "metadata": {},
   "source": [
    "### Now extract only words that have at least 4 letters"
   ]
  },
  {
   "cell_type": "code",
   "execution_count": 109,
   "metadata": {},
   "outputs": [
    {
     "data": {
      "text/plain": [
       "['Every', 'seven', 'lives']"
      ]
     },
     "execution_count": 109,
     "metadata": {},
     "output_type": "execute_result"
    }
   ],
   "source": [
    "pattern = '[\\w]{4,}' ## \\w gives every alphanumeric character.\n",
    "re.findall(pattern,cattext)"
   ]
  },
  {
   "cell_type": "markdown",
   "metadata": {},
   "source": [
    "### Extract all the phone numbers from the following text"
   ]
  },
  {
   "cell_type": "code",
   "execution_count": 112,
   "metadata": {},
   "outputs": [],
   "source": [
    "phonebook = '''\n",
    "Aeromexico 806-011-1102\n",
    "Air Canada 888-247-2262\n",
    "Air Canada Rouge 888-247-2262\n",
    "Air Creebec 800-567-6567\n",
    "Air Inuit 800-361-2965\n",
    "Air North 800-061-0407\n",
    "'''\n"
   ]
  },
  {
   "cell_type": "code",
   "execution_count": 117,
   "metadata": {},
   "outputs": [
    {
     "data": {
      "text/plain": [
       "['806-011-1102',\n",
       " '888-247-2262',\n",
       " '888-247-2262',\n",
       " '800-567-6567',\n",
       " '800-361-2965',\n",
       " '800-061-0407']"
      ]
     },
     "execution_count": 117,
     "metadata": {},
     "output_type": "execute_result"
    }
   ],
   "source": [
    "pattern = '[\\d]+-[\\d]+-[\\d]+'\n",
    "re.findall(pattern,phonebook)"
   ]
  },
  {
   "cell_type": "code",
   "execution_count": null,
   "metadata": {},
   "outputs": [],
   "source": []
  }
 ],
 "metadata": {
  "kernelspec": {
   "display_name": "Python 3",
   "language": "python",
   "name": "python3"
  },
  "language_info": {
   "codemirror_mode": {
    "name": "ipython",
    "version": 3
   },
   "file_extension": ".py",
   "mimetype": "text/x-python",
   "name": "python",
   "nbconvert_exporter": "python",
   "pygments_lexer": "ipython3",
   "version": "3.8.3"
  }
 },
 "nbformat": 4,
 "nbformat_minor": 4
}
