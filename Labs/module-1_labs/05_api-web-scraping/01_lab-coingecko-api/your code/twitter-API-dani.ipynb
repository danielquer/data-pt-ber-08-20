{
 "cells": [
  {
   "cell_type": "markdown",
   "metadata": {},
   "source": [
    "### Twitter API credentials (DO NOT FORGET TO REMOVE THEN BEFORE GIT PUSH!!!!!!!!)"
   ]
  },
  {
   "cell_type": "code",
   "execution_count": 2,
   "metadata": {},
   "outputs": [],
   "source": [
    "API_KEY = '76asjANfpnWgjb3fqAt7Fce53'\n",
    "API_SECRET = 'zy2GhPzUW1AwXgNliDWo1mynU60bBXMnVi9VCBcGQ8eVaEosta'\n",
    "ACCESS_TOKEN = '220734686-TQxma9XMNenKjduOyFEhrdhqxJPngIQ39Mz4FCVb'\n",
    "ACCESS_TOKEN_SECRET = 'vDeNQDydUaIMHtHzDFr5drEPPfGpCkMzaBrr5SGjV7Q3t'"
   ]
  },
  {
   "cell_type": "code",
   "execution_count": 4,
   "metadata": {},
   "outputs": [],
   "source": [
    "import json\n",
    "import tweepy ### Twitter for Python\n",
    "import pandas as pd"
   ]
  },
  {
   "cell_type": "code",
   "execution_count": null,
   "metadata": {},
   "outputs": [],
   "source": []
  }
 ],
 "metadata": {
  "kernelspec": {
   "display_name": "Python 3",
   "language": "python",
   "name": "python3"
  },
  "language_info": {
   "codemirror_mode": {
    "name": "ipython",
    "version": 3
   },
   "file_extension": ".py",
   "mimetype": "text/x-python",
   "name": "python",
   "nbconvert_exporter": "python",
   "pygments_lexer": "ipython3",
   "version": "3.8.3"
  }
 },
 "nbformat": 4,
 "nbformat_minor": 4
}
