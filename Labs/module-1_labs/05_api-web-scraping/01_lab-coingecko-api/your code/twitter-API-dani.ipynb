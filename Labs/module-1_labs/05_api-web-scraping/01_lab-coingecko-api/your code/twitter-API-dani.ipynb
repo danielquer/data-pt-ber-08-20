{
 "cells": [
  {
   "cell_type": "markdown",
   "metadata": {},
   "source": [
    "### Twitter API credentials (stored in file hidden by .gitignore file)"
   ]
  },
  {
   "cell_type": "code",
   "execution_count": 50,
   "metadata": {},
   "outputs": [],
   "source": [
    "import json\n",
    "import tweepy ### Twitter for Python\n",
    "import pandas as pd"
   ]
  },
  {
   "cell_type": "code",
   "execution_count": 51,
   "metadata": {},
   "outputs": [],
   "source": [
    "auth = tweepy.OAuthHandler(API_KEY,API_SECRET) ### this is a native authentication method from Tweepy: http://docs.tweepy.org/en/latest/auth_tutorial.html\n",
    "auth.set_access_token(ACCESS_TOKEN,ACCESS_TOKEN_SECRET)"
   ]
  },
  {
   "cell_type": "code",
   "execution_count": 52,
   "metadata": {},
   "outputs": [],
   "source": [
    "api = tweepy.API(auth) ### this is an API Wrapper. It \"wraps\" all the credentials within one object."
   ]
  },
  {
   "cell_type": "code",
   "execution_count": 53,
   "metadata": {},
   "outputs": [
    {
     "data": {
      "text/plain": [
       "User(_api=<tweepy.api.API object at 0x10a107790>, _json={'id': 220734686, 'id_str': '220734686', 'name': 'DQ', 'screen_name': 'd_quer_', 'location': 'Berlin, Deutschland', 'profile_location': None, 'description': 'Demà deixo tuiter.', 'url': None, 'entities': {'description': {'urls': []}}, 'protected': False, 'followers_count': 369, 'friends_count': 1364, 'listed_count': 7, 'created_at': 'Sun Nov 28 17:49:11 +0000 2010', 'favourites_count': 2049, 'utc_offset': None, 'time_zone': None, 'geo_enabled': True, 'verified': False, 'statuses_count': 2390, 'lang': None, 'status': {'created_at': 'Fri Aug 28 15:21:55 +0000 2020', 'id': 1299366607819505668, 'id_str': '1299366607819505668', 'text': '@adriaoliver13 Calma’t', 'truncated': False, 'entities': {'hashtags': [], 'symbols': [], 'user_mentions': [{'screen_name': 'adriaoliver13', 'name': 'Adrià Oliver Casamajó', 'id': 221059468, 'id_str': '221059468', 'indices': [0, 14]}], 'urls': []}, 'source': '<a href=\"http://twitter.com/download/iphone\" rel=\"nofollow\">Twitter for iPhone</a>', 'in_reply_to_status_id': 1299346694459535360, 'in_reply_to_status_id_str': '1299346694459535360', 'in_reply_to_user_id': 221059468, 'in_reply_to_user_id_str': '221059468', 'in_reply_to_screen_name': 'adriaoliver13', 'geo': None, 'coordinates': None, 'place': None, 'contributors': None, 'is_quote_status': False, 'retweet_count': 0, 'favorite_count': 1, 'favorited': False, 'retweeted': False, 'lang': 'en'}, 'contributors_enabled': False, 'is_translator': False, 'is_translation_enabled': False, 'profile_background_color': 'FFF04D', 'profile_background_image_url': 'http://abs.twimg.com/images/themes/theme18/bg.gif', 'profile_background_image_url_https': 'https://abs.twimg.com/images/themes/theme18/bg.gif', 'profile_background_tile': True, 'profile_image_url': 'http://pbs.twimg.com/profile_images/1270756958283456512/yJ3TKNyE_normal.jpg', 'profile_image_url_https': 'https://pbs.twimg.com/profile_images/1270756958283456512/yJ3TKNyE_normal.jpg', 'profile_link_color': '3B94D9', 'profile_sidebar_border_color': 'FFFFFF', 'profile_sidebar_fill_color': 'F6FFD1', 'profile_text_color': '333333', 'profile_use_background_image': True, 'has_extended_profile': False, 'default_profile': False, 'default_profile_image': False, 'following': False, 'follow_request_sent': False, 'notifications': False, 'translator_type': 'regular', 'suspended': False, 'needs_phone_verification': False}, id=220734686, id_str='220734686', name='DQ', screen_name='d_quer_', location='Berlin, Deutschland', profile_location=None, description='Demà deixo tuiter.', url=None, entities={'description': {'urls': []}}, protected=False, followers_count=369, friends_count=1364, listed_count=7, created_at=datetime.datetime(2010, 11, 28, 17, 49, 11), favourites_count=2049, utc_offset=None, time_zone=None, geo_enabled=True, verified=False, statuses_count=2390, lang=None, status=Status(_api=<tweepy.api.API object at 0x10a107790>, _json={'created_at': 'Fri Aug 28 15:21:55 +0000 2020', 'id': 1299366607819505668, 'id_str': '1299366607819505668', 'text': '@adriaoliver13 Calma’t', 'truncated': False, 'entities': {'hashtags': [], 'symbols': [], 'user_mentions': [{'screen_name': 'adriaoliver13', 'name': 'Adrià Oliver Casamajó', 'id': 221059468, 'id_str': '221059468', 'indices': [0, 14]}], 'urls': []}, 'source': '<a href=\"http://twitter.com/download/iphone\" rel=\"nofollow\">Twitter for iPhone</a>', 'in_reply_to_status_id': 1299346694459535360, 'in_reply_to_status_id_str': '1299346694459535360', 'in_reply_to_user_id': 221059468, 'in_reply_to_user_id_str': '221059468', 'in_reply_to_screen_name': 'adriaoliver13', 'geo': None, 'coordinates': None, 'place': None, 'contributors': None, 'is_quote_status': False, 'retweet_count': 0, 'favorite_count': 1, 'favorited': False, 'retweeted': False, 'lang': 'en'}, created_at=datetime.datetime(2020, 8, 28, 15, 21, 55), id=1299366607819505668, id_str='1299366607819505668', text='@adriaoliver13 Calma’t', truncated=False, entities={'hashtags': [], 'symbols': [], 'user_mentions': [{'screen_name': 'adriaoliver13', 'name': 'Adrià Oliver Casamajó', 'id': 221059468, 'id_str': '221059468', 'indices': [0, 14]}], 'urls': []}, source='Twitter for iPhone', source_url='http://twitter.com/download/iphone', in_reply_to_status_id=1299346694459535360, in_reply_to_status_id_str='1299346694459535360', in_reply_to_user_id=221059468, in_reply_to_user_id_str='221059468', in_reply_to_screen_name='adriaoliver13', geo=None, coordinates=None, place=None, contributors=None, is_quote_status=False, retweet_count=0, favorite_count=1, favorited=False, retweeted=False, lang='en'), contributors_enabled=False, is_translator=False, is_translation_enabled=False, profile_background_color='FFF04D', profile_background_image_url='http://abs.twimg.com/images/themes/theme18/bg.gif', profile_background_image_url_https='https://abs.twimg.com/images/themes/theme18/bg.gif', profile_background_tile=True, profile_image_url='http://pbs.twimg.com/profile_images/1270756958283456512/yJ3TKNyE_normal.jpg', profile_image_url_https='https://pbs.twimg.com/profile_images/1270756958283456512/yJ3TKNyE_normal.jpg', profile_link_color='3B94D9', profile_sidebar_border_color='FFFFFF', profile_sidebar_fill_color='F6FFD1', profile_text_color='333333', profile_use_background_image=True, has_extended_profile=False, default_profile=False, default_profile_image=False, following=False, follow_request_sent=False, notifications=False, translator_type='regular', suspended=False, needs_phone_verification=False)"
      ]
     },
     "execution_count": 53,
     "metadata": {},
     "output_type": "execute_result"
    }
   ],
   "source": [
    "api.me()"
   ]
  },
  {
   "cell_type": "code",
   "execution_count": 15,
   "metadata": {},
   "outputs": [
    {
     "data": {
      "text/html": [
       "<div>\n",
       "<style scoped>\n",
       "    .dataframe tbody tr th:only-of-type {\n",
       "        vertical-align: middle;\n",
       "    }\n",
       "\n",
       "    .dataframe tbody tr th {\n",
       "        vertical-align: top;\n",
       "    }\n",
       "\n",
       "    .dataframe thead th {\n",
       "        text-align: right;\n",
       "    }\n",
       "</style>\n",
       "<table border=\"1\" class=\"dataframe\">\n",
       "  <thead>\n",
       "    <tr style=\"text-align: right;\">\n",
       "      <th></th>\n",
       "      <th>name</th>\n",
       "      <th>url</th>\n",
       "      <th>parentid</th>\n",
       "      <th>country</th>\n",
       "      <th>woeid</th>\n",
       "      <th>countryCode</th>\n",
       "      <th>placeType.code</th>\n",
       "      <th>placeType.name</th>\n",
       "    </tr>\n",
       "  </thead>\n",
       "  <tbody>\n",
       "    <tr>\n",
       "      <th>0</th>\n",
       "      <td>Worldwide</td>\n",
       "      <td>http://where.yahooapis.com/v1/place/1</td>\n",
       "      <td>0</td>\n",
       "      <td></td>\n",
       "      <td>1</td>\n",
       "      <td>None</td>\n",
       "      <td>19</td>\n",
       "      <td>Supername</td>\n",
       "    </tr>\n",
       "    <tr>\n",
       "      <th>1</th>\n",
       "      <td>Winnipeg</td>\n",
       "      <td>http://where.yahooapis.com/v1/place/2972</td>\n",
       "      <td>23424775</td>\n",
       "      <td>Canada</td>\n",
       "      <td>2972</td>\n",
       "      <td>CA</td>\n",
       "      <td>7</td>\n",
       "      <td>Town</td>\n",
       "    </tr>\n",
       "    <tr>\n",
       "      <th>2</th>\n",
       "      <td>Ottawa</td>\n",
       "      <td>http://where.yahooapis.com/v1/place/3369</td>\n",
       "      <td>23424775</td>\n",
       "      <td>Canada</td>\n",
       "      <td>3369</td>\n",
       "      <td>CA</td>\n",
       "      <td>7</td>\n",
       "      <td>Town</td>\n",
       "    </tr>\n",
       "    <tr>\n",
       "      <th>3</th>\n",
       "      <td>Quebec</td>\n",
       "      <td>http://where.yahooapis.com/v1/place/3444</td>\n",
       "      <td>23424775</td>\n",
       "      <td>Canada</td>\n",
       "      <td>3444</td>\n",
       "      <td>CA</td>\n",
       "      <td>7</td>\n",
       "      <td>Town</td>\n",
       "    </tr>\n",
       "    <tr>\n",
       "      <th>4</th>\n",
       "      <td>Montreal</td>\n",
       "      <td>http://where.yahooapis.com/v1/place/3534</td>\n",
       "      <td>23424775</td>\n",
       "      <td>Canada</td>\n",
       "      <td>3534</td>\n",
       "      <td>CA</td>\n",
       "      <td>7</td>\n",
       "      <td>Town</td>\n",
       "    </tr>\n",
       "    <tr>\n",
       "      <th>...</th>\n",
       "      <td>...</td>\n",
       "      <td>...</td>\n",
       "      <td>...</td>\n",
       "      <td>...</td>\n",
       "      <td>...</td>\n",
       "      <td>...</td>\n",
       "      <td>...</td>\n",
       "      <td>...</td>\n",
       "    </tr>\n",
       "    <tr>\n",
       "      <th>462</th>\n",
       "      <td>Vietnam</td>\n",
       "      <td>http://where.yahooapis.com/v1/place/23424984</td>\n",
       "      <td>1</td>\n",
       "      <td>Vietnam</td>\n",
       "      <td>23424984</td>\n",
       "      <td>VN</td>\n",
       "      <td>12</td>\n",
       "      <td>Country</td>\n",
       "    </tr>\n",
       "    <tr>\n",
       "      <th>463</th>\n",
       "      <td>Petaling</td>\n",
       "      <td>http://where.yahooapis.com/v1/place/56013632</td>\n",
       "      <td>23424901</td>\n",
       "      <td>Malaysia</td>\n",
       "      <td>56013632</td>\n",
       "      <td>MY</td>\n",
       "      <td>7</td>\n",
       "      <td>Town</td>\n",
       "    </tr>\n",
       "    <tr>\n",
       "      <th>464</th>\n",
       "      <td>Hulu Langat</td>\n",
       "      <td>http://where.yahooapis.com/v1/place/56013645</td>\n",
       "      <td>23424901</td>\n",
       "      <td>Malaysia</td>\n",
       "      <td>56013645</td>\n",
       "      <td>MY</td>\n",
       "      <td>7</td>\n",
       "      <td>Town</td>\n",
       "    </tr>\n",
       "    <tr>\n",
       "      <th>465</th>\n",
       "      <td>Ahsa</td>\n",
       "      <td>http://where.yahooapis.com/v1/place/56120136</td>\n",
       "      <td>23424938</td>\n",
       "      <td>Saudi Arabia</td>\n",
       "      <td>56120136</td>\n",
       "      <td>SA</td>\n",
       "      <td>9</td>\n",
       "      <td>Unknown</td>\n",
       "    </tr>\n",
       "    <tr>\n",
       "      <th>466</th>\n",
       "      <td>Okayama</td>\n",
       "      <td>http://where.yahooapis.com/v1/place/90036018</td>\n",
       "      <td>23424856</td>\n",
       "      <td>Japan</td>\n",
       "      <td>90036018</td>\n",
       "      <td>JP</td>\n",
       "      <td>7</td>\n",
       "      <td>Town</td>\n",
       "    </tr>\n",
       "  </tbody>\n",
       "</table>\n",
       "<p>467 rows × 8 columns</p>\n",
       "</div>"
      ],
      "text/plain": [
       "            name                                           url  parentid  \\\n",
       "0      Worldwide         http://where.yahooapis.com/v1/place/1         0   \n",
       "1       Winnipeg      http://where.yahooapis.com/v1/place/2972  23424775   \n",
       "2         Ottawa      http://where.yahooapis.com/v1/place/3369  23424775   \n",
       "3         Quebec      http://where.yahooapis.com/v1/place/3444  23424775   \n",
       "4       Montreal      http://where.yahooapis.com/v1/place/3534  23424775   \n",
       "..           ...                                           ...       ...   \n",
       "462      Vietnam  http://where.yahooapis.com/v1/place/23424984         1   \n",
       "463     Petaling  http://where.yahooapis.com/v1/place/56013632  23424901   \n",
       "464  Hulu Langat  http://where.yahooapis.com/v1/place/56013645  23424901   \n",
       "465         Ahsa  http://where.yahooapis.com/v1/place/56120136  23424938   \n",
       "466      Okayama  http://where.yahooapis.com/v1/place/90036018  23424856   \n",
       "\n",
       "          country     woeid countryCode  placeType.code placeType.name  \n",
       "0                         1        None              19      Supername  \n",
       "1          Canada      2972          CA               7           Town  \n",
       "2          Canada      3369          CA               7           Town  \n",
       "3          Canada      3444          CA               7           Town  \n",
       "4          Canada      3534          CA               7           Town  \n",
       "..            ...       ...         ...             ...            ...  \n",
       "462       Vietnam  23424984          VN              12        Country  \n",
       "463      Malaysia  56013632          MY               7           Town  \n",
       "464      Malaysia  56013645          MY               7           Town  \n",
       "465  Saudi Arabia  56120136          SA               9        Unknown  \n",
       "466         Japan  90036018          JP               7           Town  \n",
       "\n",
       "[467 rows x 8 columns]"
      ]
     },
     "execution_count": 15,
     "metadata": {},
     "output_type": "execute_result"
    }
   ],
   "source": [
    "trends_territories = pd.json_normalize(api.trends_available())\n",
    "trends_territories"
   ]
  },
  {
   "cell_type": "code",
   "execution_count": 25,
   "metadata": {},
   "outputs": [
    {
     "data": {
      "text/plain": [
       "dict"
      ]
     },
     "execution_count": 25,
     "metadata": {},
     "output_type": "execute_result"
    }
   ],
   "source": [
    "trends_bcn = api.trends_place(753692) ## getting the trends for Barcelona\n",
    "type(trends_bcn[0])\n"
   ]
  },
  {
   "cell_type": "code",
   "execution_count": 27,
   "metadata": {},
   "outputs": [
    {
     "data": {
      "text/plain": [
       "str"
      ]
     },
     "execution_count": 27,
     "metadata": {},
     "output_type": "execute_result"
    }
   ],
   "source": [
    "json.dumps(trends_bcn[0])\n",
    "type(json.dumps(trends_bcn[0]))"
   ]
  },
  {
   "cell_type": "code",
   "execution_count": 28,
   "metadata": {},
   "outputs": [
    {
     "data": {
      "text/plain": [
       "dict_keys(['trends', 'as_of', 'created_at', 'locations'])"
      ]
     },
     "execution_count": 28,
     "metadata": {},
     "output_type": "execute_result"
    }
   ],
   "source": [
    "trends_bcn[0].keys()"
   ]
  },
  {
   "cell_type": "code",
   "execution_count": 48,
   "metadata": {},
   "outputs": [
    {
     "data": {
      "text/plain": [
       "{'name': '#UnaFinalQueNoEsNormal',\n",
       " 'url': 'http://twitter.com/search?q=%23UnaFinalQueNoEsNormal',\n",
       " 'promoted_content': None,\n",
       " 'query': '%23UnaFinalQueNoEsNormal',\n",
       " 'tweet_volume': None}"
      ]
     },
     "execution_count": 48,
     "metadata": {},
     "output_type": "execute_result"
    }
   ],
   "source": [
    "trends_bcn[0]['trends'] ## list of dictionaries with each of the trends in it\n",
    "trends_bcn[0]['trends'][0] ## first item (a dictionary) in the list of trends\n",
    "trends_bcn[0]['trends'][0]['name'] ## accessing the first item (name) of a dictionary (trend)."
   ]
  },
  {
   "cell_type": "code",
   "execution_count": 46,
   "metadata": {},
   "outputs": [
    {
     "data": {
      "text/plain": [
       "['#UnaFinalQueNoEsNormal',\n",
       " 'Bilbao',\n",
       " '#MapOfTheSoulOne',\n",
       " '#DiaMundialdelaSaludMental',\n",
       " '#FelizSabado',\n",
       " '#NBAFinals',\n",
       " 'Lebron',\n",
       " 'Cuba',\n",
       " 'Lakers',\n",
       " 'Comunidad de Madrid',\n",
       " 'Fnatic',\n",
       " 'simon yates',\n",
       " 'Jimmy Butler',\n",
       " 'Danny Green',\n",
       " 'Chiquito de la Calzada',\n",
       " 'Mariló Montero',\n",
       " 'Churro',\n",
       " 'Sánchez a Ayuso']"
      ]
     },
     "execution_count": 46,
     "metadata": {},
     "output_type": "execute_result"
    }
   ],
   "source": [
    "trends_labels = [trends_bcn[0]['trends'][i]['name'] for i in range(0,len(trends_bcn[0]['trends']))] ## creating a list of names for a dictio\n",
    "trends_labels"
   ]
  },
  {
   "cell_type": "code",
   "execution_count": 43,
   "metadata": {},
   "outputs": [
    {
     "data": {
      "text/plain": [
       "18"
      ]
     },
     "execution_count": 43,
     "metadata": {},
     "output_type": "execute_result"
    }
   ],
   "source": [
    "len(trends_bcn[0]['trends'])"
   ]
  },
  {
   "cell_type": "code",
   "execution_count": null,
   "metadata": {},
   "outputs": [],
   "source": []
  }
 ],
 "metadata": {
  "kernelspec": {
   "display_name": "Python 3",
   "language": "python",
   "name": "python3"
  },
  "language_info": {
   "codemirror_mode": {
    "name": "ipython",
    "version": 3
   },
   "file_extension": ".py",
   "mimetype": "text/x-python",
   "name": "python",
   "nbconvert_exporter": "python",
   "pygments_lexer": "ipython3",
   "version": "3.8.3"
  }
 },
 "nbformat": 4,
 "nbformat_minor": 4
}
